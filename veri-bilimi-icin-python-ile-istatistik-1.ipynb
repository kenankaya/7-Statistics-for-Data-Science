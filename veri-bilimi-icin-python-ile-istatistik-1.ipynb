{
 "cells": [
  {
   "cell_type": "markdown",
   "id": "d80a010c",
   "metadata": {
    "id": "lnAZQix5drH0",
    "papermill": {
     "duration": 0.078943,
     "end_time": "2022-02-24T09:08:50.349738",
     "exception": false,
     "start_time": "2022-02-24T09:08:50.270795",
     "status": "completed"
    },
    "tags": []
   },
   "source": [
    "# **Gerekli kütüphaneler**"
   ]
  },
  {
   "cell_type": "code",
   "execution_count": 1,
   "id": "c7ac592f",
   "metadata": {
    "execution": {
     "iopub.execute_input": "2022-02-24T09:08:50.491327Z",
     "iopub.status.busy": "2022-02-24T09:08:50.482875Z",
     "iopub.status.idle": "2022-02-24T09:08:51.543200Z",
     "shell.execute_reply": "2022-02-24T09:08:51.543761Z",
     "shell.execute_reply.started": "2022-02-23T17:27:02.453683Z"
    },
    "id": "mDWe7EWvdtNI",
    "papermill": {
     "duration": 1.128678,
     "end_time": "2022-02-24T09:08:51.544075",
     "exception": false,
     "start_time": "2022-02-24T09:08:50.415397",
     "status": "completed"
    },
    "tags": []
   },
   "outputs": [],
   "source": [
    "import matplotlib.pyplot as plt\n",
    "import numpy as np\n",
    "import pandas as pd\n",
    "import seaborn as sns\n",
    "import warnings\n",
    "from scipy import stats\n",
    "import statistics\n",
    "import math\n",
    "warnings.filterwarnings('ignore')\n",
    "seed = 42"
   ]
  },
  {
   "cell_type": "markdown",
   "id": "00080c27",
   "metadata": {
    "id": "Yb9sbWcueaiX",
    "papermill": {
     "duration": 0.066476,
     "end_time": "2022-02-24T09:08:51.675992",
     "exception": false,
     "start_time": "2022-02-24T09:08:51.609516",
     "status": "completed"
    },
    "tags": []
   },
   "source": [
    "# İçindekiler:\n",
    "1. [Veri Tipleri](#VeriTipleri)\n",
    "    1. [Kalitatif Veriler](#KalitatifVeriler)\n",
    "          1. [Nominal Veriler](#NominalVeriler)\n",
    "          2. [Ordinal Veriler](#OrdinalVeriler)\n",
    "    2. [Kantitatif Veriler](#KantitatifVeriler)\n",
    "          1. [Sürekli Veriler](#SürekliVeriler)\n",
    "          2. [Süreksiz Veriler](#SüreksizVeriler)\n",
    "\n",
    "2. [Olasılık Dağılımları](#OlasılıkDağılımları)\n",
    "    1. [Normal Dağılım](#NormalDağılım)\n",
    "    2. [Uniform Dağılım](#UniformDağılım)\n",
    "    3. [Binominal Dağılım](#BinominalDağılım)\n",
    "    4. [Bernoulli Dağılımı](#BernoulliDağılımı)\n",
    "    5. [Poisson Dağılımı](#PoissonDağılımı)\n",
    "\n",
    "3. [Örneklem Dağılımları](#ÖrneklemDağılımları)\n",
    "4. [Merkezi Limit Teoermi](#MerkeziLimitTeoremi)\n",
    "5. [Örnekleme Yöntemleri](#ÖrneklemeYöntemleri)\n",
    "6. [Skewness ve Kurtosis](#SkewnessveKurtosis)\n",
    "7. [Varyans, Standart Sapma, Kovaryans, Korelasyon](#VSSKK)\n",
    "8. [Aritmetik Ortalama, Mod, Medyan](#AOMM)\n",
    "9. [Aykırı Değerler](#AykırıDeğerler)\n",
    "    1. [Kutu Grafiği](#KutuGrafiği)\n",
    "    2. [Histogram Grafiği](#HistogramGrafiği)\n",
    "    3. [Çeyrekler Açıklığı](#ÇeyreklerAçıklığı)\n",
    "    4. [Ortanca Mutlak Sapma Metodu](#OrtancaMutlakSapmaMetodu)\n",
    "    5. [Z-skoru](#Z-skoru)\n",
    "    6. [Hampel Filtresi](#HampelFiltresi)\n",
    "    7. [Log Dönüşümü](#LogDönüşümü)\n",
    "    8. [Karekök Dönüşümü](#KarekökDönüşümü)\n",
    "9. [Hipotez](#Hipotez)\n",
    "    1. [Hipotez nedir?](#HipotezNedir)\n",
    "    2. [Hipotez testi nedir?](#HipotezTestiNedir)\n",
    "    3. [Hipotez testi aşamaları](#HipotezTestiAşamaları)\n",
    "  \n",
    "10. [P değeri](#Pdeğeri)\n",
    "\n",
    "\n"
   ]
  },
  {
   "cell_type": "markdown",
   "id": "4a0e388e",
   "metadata": {
    "id": "duNxCQS-UClV",
    "papermill": {
     "duration": 0.064602,
     "end_time": "2022-02-24T09:08:51.804963",
     "exception": false,
     "start_time": "2022-02-24T09:08:51.740361",
     "status": "completed"
    },
    "tags": []
   },
   "source": [
    "# **Veri Tipleri**<a id=\"VeriTipleri\"></a> <br>\n",
    "<img src=\"https://media.geeksforgeeks.org/wp-content/uploads/20211019230043/UntitledDiagram13.jpg\" alt=\"image info\" />\n",
    "\n",
    "\n",
    "\n"
   ]
  },
  {
   "cell_type": "markdown",
   "id": "f6fab9c3",
   "metadata": {
    "id": "e7KEOqQfhTDj",
    "papermill": {
     "duration": 0.065415,
     "end_time": "2022-02-24T09:08:51.935011",
     "exception": false,
     "start_time": "2022-02-24T09:08:51.869596",
     "status": "completed"
    },
    "tags": []
   },
   "source": [
    "\n",
    "## **Kalitatif (Nitel) Veriler:**<a id=\"KalitatifVeriler\"></a> <br>\n",
    "\n",
    "Kalitatif veya Kategorik Veriler, sayı biçiminde ölçülemeyen veya sayılamayan verilerdir. Bu tür veriler, sayıya göre değil, kategoriye göre sıralanır. \n",
    "  \n",
    "  Örneğin: konuştuğunuz dil, yaşadığınız ülke, tatile gittiğiniz şehir\n",
    "    \n",
    "\n"
   ]
  },
  {
   "cell_type": "markdown",
   "id": "3d8436bc",
   "metadata": {
    "id": "3rcgG7yghZ2Q",
    "papermill": {
     "duration": 0.065932,
     "end_time": "2022-02-24T09:08:52.065484",
     "exception": false,
     "start_time": "2022-02-24T09:08:51.999552",
     "status": "completed"
    },
    "tags": []
   },
   "source": [
    "\n",
    "### **Sırasız Nitel (nominal) Veri:**<a id=\"NominalVeriler\"></a>\n",
    "\n",
    " Nominal Veri, herhangi bir sıra veya nicel değer olmaksızın değişkenleri etiketlemek için kullanılır. Bu nedenle, herhangi bir hiyerarşik özelliği yoktur.\n",
    "    \n",
    "    Örneğin: göz rengi, kan grubu\n",
    "\n",
    "\n"
   ]
  },
  {
   "cell_type": "markdown",
   "id": "204571ba",
   "metadata": {
    "id": "4TYI3YR2heDx",
    "papermill": {
     "duration": 0.064842,
     "end_time": "2022-02-24T09:08:52.195369",
     "exception": false,
     "start_time": "2022-02-24T09:08:52.130527",
     "status": "completed"
    },
    "tags": []
   },
   "source": [
    "### **Sıralı Nitel (ordinal) Veri**<a id=\"OrdinalVeriler\"></a>\n",
    "\n",
    "Ordinal veriler de yine kategorik veri türündendir. Fakat değerleri arasında sıralı bir ilişki bulunmaktadır.\n",
    "    \n",
    "   Örneğin: ekonomik durum, ders notları\n",
    "\n",
    "\n",
    "---\n"
   ]
  },
  {
   "cell_type": "markdown",
   "id": "642008b3",
   "metadata": {
    "id": "YF2O_qK8hgrW",
    "papermill": {
     "duration": 0.064466,
     "end_time": "2022-02-24T09:08:52.324481",
     "exception": false,
     "start_time": "2022-02-24T09:08:52.260015",
     "status": "completed"
    },
    "tags": []
   },
   "source": [
    "\n",
    "## **Kantitatif (Nicel) Veriler:**<a id=\"KantitatifVeriler\"></a>\n",
    "Sayısal veri içiren veri tipleridir.\n",
    "\n",
    "Örneğin: yaş, ağırlık, ayakkabı numarası\n",
    "\n"
   ]
  },
  {
   "cell_type": "markdown",
   "id": "3fdf3f1f",
   "metadata": {
    "id": "KrA8T8ejhihg",
    "papermill": {
     "duration": 0.064198,
     "end_time": "2022-02-24T09:08:52.453219",
     "exception": false,
     "start_time": "2022-02-24T09:08:52.389021",
     "status": "completed"
    },
    "tags": []
   },
   "source": [
    "\n",
    "### **Süreksiz Nicel Veri:**<a id=\"SürekliVeriler\"></a>\n",
    "Yalnızca tam sayı veya tam sayı olarak sayılabilen ve ayrı olan değerleri içerir, bu da verilerin kesir veya ondalık olarak bölünemeyeceği anlamına gelir.\n",
    "  Örneğin: çocuk sayısı, ayakkabı numarası, sınıftaki öğrenci sayısı\n"
   ]
  },
  {
   "cell_type": "markdown",
   "id": "be46d891",
   "metadata": {
    "id": "h7TYqnkghkhQ",
    "papermill": {
     "duration": 0.064083,
     "end_time": "2022-02-24T09:08:52.581886",
     "exception": false,
     "start_time": "2022-02-24T09:08:52.517803",
     "status": "completed"
    },
    "tags": []
   },
   "source": [
    "\n",
    "### **Süreksiz Nicel Veri:**<a id=\"SüreksizVeriler\"></a>\n",
    "Sonsuz sayıda değer alabilen ve kesirli değerleri de içeren veri türüdür.\n",
    "\n",
    "  Örneğin: kilo, vücut sıcaklığı\n",
    "\n",
    "\n",
    "\n",
    "\n",
    "---\n",
    "\n",
    "\n",
    "Kaynak:\n",
    "- [Complete Guide to Data Types in Statistics for Data Science](https://www.analyticsvidhya.com/blog/2021/06/complete-guide-to-data-types-in-statistics-for-data-science/)\n",
    "- [6 Types of Data in Statistics & Research: Key in Data Science](https://www.intellspot.com/data-types/)\n",
    "- [4 Types of Data: Nominal, Ordinal, Discrete, Continuous](https://www.upgrad.com/blog/types-of-data/)"
   ]
  },
  {
   "cell_type": "markdown",
   "id": "1bec16a6",
   "metadata": {
    "id": "m8mbdk08OdLS",
    "papermill": {
     "duration": 0.064132,
     "end_time": "2022-02-24T09:08:52.710469",
     "exception": false,
     "start_time": "2022-02-24T09:08:52.646337",
     "status": "completed"
    },
    "tags": []
   },
   "source": [
    "# **Olasılık dağılımları**<a id=\"OlasılıkDağılımları\"></a>\n",
    "Olasılık dağılımı, bir rastgele değişkenin belirli bir aralıkta alabileceği tüm olası değerleri ve olasılıkları tanımlayan istatistiksel bir fonksiyondur. Bu aralık, minimum ve maksimum olası değerler arasında sınırlandırılacaktır. [1]\n",
    "\n",
    "Olasılık dağılımının birçok türü vardır. Aşağıdakiler, veri biliminde en çok kullanılan beş olasılık dağılımıdır:\n",
    "\n",
    "1.   Normal dağılım\n",
    "2.   Binomial dağılım\n",
    "3.   Bernoulli dağılım\n",
    "4.   Uniform dağılım\n",
    "5.   Poisson dağılım\n",
    "\n",
    "\n",
    "\n"
   ]
  },
  {
   "cell_type": "markdown",
   "id": "f6c7d431",
   "metadata": {
    "id": "VrMdnJZ9im5l",
    "papermill": {
     "duration": 0.064209,
     "end_time": "2022-02-24T09:08:52.840586",
     "exception": false,
     "start_time": "2022-02-24T09:08:52.776377",
     "status": "completed"
    },
    "tags": []
   },
   "source": [
    "---\n",
    "## **Normal Dağılım** <a id=\"NormalDağılım\"></a>\n",
    "Karşınıza en çok çıkacak dağılımdır.. Normal dağılıma Gauss dağılımı da denir. Normal dağılımda veriler simetrik olarak dağıtılır ve çarpıklık olmaz. Bir grafik üzerinde çizildiğinde, veriler bir çan şeklini takip eder, çoğu değer merkezi bir bölge etrafında kümelenir ve merkezden uzaklaştıkça incelir. [2][3]\n",
    "\n",
    "<center><img src=\"https://cdn-5a6cb102f911c811e474f1cd.closte.com/wp-content/uploads/2017/11/Normal-Distribution-Probability-Density-Function.png\" alt=\"image info\" />\n",
    "\n",
    "<img src=\"https://www.w3schools.com/statistics/img_normal_distribution.svg\" alt=\"image info\" /><center>\n",
    "\n"
   ]
  },
  {
   "cell_type": "code",
   "execution_count": 2,
   "id": "b282b4d8",
   "metadata": {
    "execution": {
     "iopub.execute_input": "2022-02-24T09:08:52.977627Z",
     "iopub.status.busy": "2022-02-24T09:08:52.976951Z",
     "iopub.status.idle": "2022-02-24T09:08:53.233263Z",
     "shell.execute_reply": "2022-02-24T09:08:53.233703Z",
     "shell.execute_reply.started": "2022-02-23T17:27:03.498568Z"
    },
    "id": "W9J00WPyECDO",
    "outputId": "8f86f177-6248-41d2-8760-80ba018479a6",
    "papermill": {
     "duration": 0.328704,
     "end_time": "2022-02-24T09:08:53.233871",
     "exception": false,
     "start_time": "2022-02-24T09:08:52.905167",
     "status": "completed"
    },
    "tags": []
   },
   "outputs": [
    {
     "data": {
      "text/plain": [
       "[<matplotlib.lines.Line2D at 0x7fdc60c5fc50>]"
      ]
     },
     "execution_count": 2,
     "metadata": {},
     "output_type": "execute_result"
    },
    {
     "data": {
      "image/png": "[encoded data removed]",
      "text/plain": [
       "<Figure size 1080x360 with 1 Axes>"
      ]
     },
     "metadata": {
      "needs_background": "light"
     },
     "output_type": "display_data"
    }
   ],
   "source": [
    "#İlk olarak formülü kullanarak bir normal dağılım oluştralım.\n",
    "plt.figure(figsize=(15,5))\n",
    "mu = 0\n",
    "variance = 1\n",
    "sigma = math.sqrt(variance)\n",
    "x = np.linspace(mu - 3*sigma, mu + 3*sigma, 100)\n",
    "plt.plot(x, stats.norm.pdf(x, mu, sigma))\n",
    "\n",
    "\n"
   ]
  },
  {
   "cell_type": "code",
   "execution_count": 3,
   "id": "606c5a98",
   "metadata": {
    "execution": {
     "iopub.execute_input": "2022-02-24T09:08:53.385937Z",
     "iopub.status.busy": "2022-02-24T09:08:53.371321Z",
     "iopub.status.idle": "2022-02-24T09:08:53.669317Z",
     "shell.execute_reply": "2022-02-24T09:08:53.668809Z",
     "shell.execute_reply.started": "2022-02-23T17:27:03.760952Z"
    },
    "id": "pHDEorCxneR1",
    "outputId": "6074eb7e-8c84-435f-a0b7-064edbcb48e3",
    "papermill": {
     "duration": 0.369194,
     "end_time": "2022-02-24T09:08:53.669460",
     "exception": false,
     "start_time": "2022-02-24T09:08:53.300266",
     "status": "completed"
    },
    "tags": []
   },
   "outputs": [
    {
     "data": {
      "text/plain": [
       "<AxesSubplot:ylabel='Density'>"
      ]
     },
     "execution_count": 3,
     "metadata": {},
     "output_type": "execute_result"
    },
    {
     "data": {
      "image/png": "[encoded data removed]",
      "text/plain": [
       "<Figure size 1080x360 with 1 Axes>"
      ]
     },
     "metadata": {
      "needs_background": "light"
     },
     "output_type": "display_data"
    }
   ],
   "source": [
    "#Numpy kütüphanesi ile normal dağılıma sahip verileri kolayca oluşturabiliriz\n",
    "x=np.random.normal(size=(1000))\n",
    "plt.figure(figsize=(15,5))\n",
    "sns.distplot(x)"
   ]
  },
  {
   "cell_type": "markdown",
   "id": "9ae0ee96",
   "metadata": {
    "id": "xyqOkipguaXW",
    "papermill": {
     "duration": 0.067368,
     "end_time": "2022-02-24T09:08:53.804560",
     "exception": false,
     "start_time": "2022-02-24T09:08:53.737192",
     "status": "completed"
    },
    "tags": []
   },
   "source": [
    "\n",
    "## **Uniform Dağılım**<a id=\"UniformDağılım\"></a>\n",
    "Uniform bir dağılımda, tüm olaylar eşit olasılıklara sahiptir. Aşağıdaki şekilde görülebileceği gibi, düzgün dağılım dikdörtgen dağılım olarak da bilinir.\n",
    "\n",
    "<img src=\"https://nicholasmarosszeky.typepad.com/.a/6a01b7c8b34968970b01b8d286620a970c-pi\" alt=\"image info\" />"
   ]
  },
  {
   "cell_type": "code",
   "execution_count": 4,
   "id": "6fa339b2",
   "metadata": {
    "execution": {
     "iopub.execute_input": "2022-02-24T09:08:53.980526Z",
     "iopub.status.busy": "2022-02-24T09:08:53.952077Z",
     "iopub.status.idle": "2022-02-24T09:08:54.177744Z",
     "shell.execute_reply": "2022-02-24T09:08:54.177224Z",
     "shell.execute_reply.started": "2022-02-23T17:27:04.076318Z"
    },
    "id": "4nJwcscTm7dc",
    "outputId": "d39f4b2f-962d-4aa9-b463-59e3af0d2d8c",
    "papermill": {
     "duration": 0.305838,
     "end_time": "2022-02-24T09:08:54.177888",
     "exception": false,
     "start_time": "2022-02-24T09:08:53.872050",
     "status": "completed"
    },
    "tags": []
   },
   "outputs": [
    {
     "data": {
      "image/png": "[encoded data removed]",
      "text/plain": [
       "<Figure size 1080x360 with 1 Axes>"
      ]
     },
     "metadata": {
      "needs_background": "light"
     },
     "output_type": "display_data"
    }
   ],
   "source": [
    "x = np.random.uniform(size=(100))\n",
    "plt.figure(figsize=(15,5))\n",
    "sns.distplot(x)\n",
    "plt.show()"
   ]
  },
  {
   "cell_type": "markdown",
   "id": "bb020770",
   "metadata": {
    "id": "XPnxKgW3vPTZ",
    "papermill": {
     "duration": 0.068583,
     "end_time": "2022-02-24T09:08:54.316070",
     "exception": false,
     "start_time": "2022-02-24T09:08:54.247487",
     "status": "completed"
    },
    "tags": []
   },
   "source": [
    "## **Binominal Dağılım**<a id=\"BinominalDağılım\"></a>\n",
    "Binom dağılımı, her denemede p başarı olasılığı göz önüne alındığında, n denemede x başarı olasılığını temsil etmek için kullanılır. Binom dağılımında:\n",
    "- Gözlem veya deneme sayısı sabittir. \n",
    "- Olaylar bağımsız olmalıdır.\n",
    "- Olayların yalnızca iki olası sonucu olmalıdır.\n",
    "\n",
    "**Normal ve Binom Dağılım Arasındaki Fark**\n",
    "\n",
    "Temel fark, normal dağılımın sürekli olması, binomun ayrık olmasıdır, ancak yeterli veri noktası varsa, belirli bir yer ve ölçek ile normal dağılıma oldukça benzer olacaktır.\n",
    "\n",
    "- Not: Olasılık kuramı içinde bir olasılık dağılımı eğer bir olasılık kütle fonksiyonu ile karakterize edilmiş ise ayrık olarak anılır."
   ]
  },
  {
   "cell_type": "code",
   "execution_count": 5,
   "id": "d74a216c",
   "metadata": {
    "execution": {
     "iopub.execute_input": "2022-02-24T09:08:54.472602Z",
     "iopub.status.busy": "2022-02-24T09:08:54.460547Z",
     "iopub.status.idle": "2022-02-24T09:08:54.697491Z",
     "shell.execute_reply": "2022-02-24T09:08:54.697983Z",
     "shell.execute_reply.started": "2022-02-23T17:27:04.295226Z"
    },
    "id": "RxnTQMlLyEVy",
    "outputId": "fc96795e-2cc8-4232-c510-bbfadfbc53a8",
    "papermill": {
     "duration": 0.313173,
     "end_time": "2022-02-24T09:08:54.698177",
     "exception": false,
     "start_time": "2022-02-24T09:08:54.385004",
     "status": "completed"
    },
    "tags": []
   },
   "outputs": [
    {
     "data": {
      "image/png": "[encoded data removed]",
      "text/plain": [
       "<Figure size 1080x360 with 1 Axes>"
      ]
     },
     "metadata": {
      "needs_background": "light"
     },
     "output_type": "display_data"
    }
   ],
   "source": [
    "plt.figure(figsize=(15,5))\n",
    "sns.distplot(np.random.normal(loc=50, scale=5, size=1000), hist=False, label='normal')\n",
    "sns.distplot(np.random.binomial(n=100, p=0.5, size=1000), hist=False, label='binomial')\n",
    "\n",
    "plt.show()"
   ]
  },
  {
   "cell_type": "markdown",
   "id": "b222b0f1",
   "metadata": {
    "id": "69fB0tCIyn0o",
    "papermill": {
     "duration": 0.070953,
     "end_time": "2022-02-24T09:08:54.841580",
     "exception": false,
     "start_time": "2022-02-24T09:08:54.770627",
     "status": "completed"
    },
    "tags": []
   },
   "source": [
    "## **Bernoulli Dağılımı**<a id=\"BernoulliDağılımı\"></a>\n",
    "Bernoulli Dağılımı, Binom Dağılımı'nın özel bir durumudur. Tek fark, binom dağılımı n denemeyi dikkate alırken yalnızca bir deneme sürmesidir. Başarılı-başarısız gibi yalnızca iki olası sonucu vardır.\n",
    "\n",
    "<img src=\"https://www.statisticshowto.com/wp-content/uploads/2016/07/bernoulli-distribution.png\" alt=\"image info\" />\n"
   ]
  },
  {
   "cell_type": "markdown",
   "id": "fb1ab7c0",
   "metadata": {
    "id": "WruMOTGoz_fB",
    "papermill": {
     "duration": 0.071978,
     "end_time": "2022-02-24T09:08:54.985515",
     "exception": false,
     "start_time": "2022-02-24T09:08:54.913537",
     "status": "completed"
    },
    "tags": []
   },
   "source": [
    "## **Poisson Dağılımı**<a id=\"PoissonDağılımı\"></a>\n",
    "\n",
    "\n",
    "\n",
    "Poisson dağılımı ayrık bir dağılımdır ve bir olayın bir zaman veya uzay aralığında meydana gelme sayısını modellemede oldukça popülerdir.\n",
    "\n",
    "<img src=\"https://miro.medium.com/max/462/1*JUD-DF0ISY_yq25JpjS-oQ.png\" alt=\"image info\" />\n",
    "\n",
    "--- \n",
    "**Kaynaklar:**\n",
    "\n",
    "[1]https://en.wikipedia.org/wiki/Probability_distribution\n",
    "\n",
    "[2]https://en.wikipedia.org/wiki/Normal_distribution\n",
    "\n",
    "[3][Normal Distribution | Examples, Formulas, & Uses](https://www.scribbr.com/statistics/normal-distribution/#:~:text=Normal%20distributions%20have%20key%20characteristics,mean%20and%20the%20standard%20deviation.)\n"
   ]
  },
  {
   "cell_type": "code",
   "execution_count": 6,
   "id": "d30313d2",
   "metadata": {
    "execution": {
     "iopub.execute_input": "2022-02-24T09:08:55.148911Z",
     "iopub.status.busy": "2022-02-24T09:08:55.147894Z",
     "iopub.status.idle": "2022-02-24T09:08:55.343486Z",
     "shell.execute_reply": "2022-02-24T09:08:55.343964Z",
     "shell.execute_reply.started": "2022-02-23T17:27:04.534328Z"
    },
    "id": "DOo-3P_JusOj",
    "outputId": "48dbeeb8-da11-42c5-98df-8d1c737bd4d1",
    "papermill": {
     "duration": 0.28833,
     "end_time": "2022-02-24T09:08:55.344175",
     "exception": false,
     "start_time": "2022-02-24T09:08:55.055845",
     "status": "completed"
    },
    "tags": []
   },
   "outputs": [
    {
     "data": {
      "image/png": "[encoded data removed]",
      "text/plain": [
       "<Figure size 432x288 with 1 Axes>"
      ]
     },
     "metadata": {
      "needs_background": "light"
     },
     "output_type": "display_data"
    },
    {
     "data": {
      "text/plain": [
       "<Figure size 1080x360 with 0 Axes>"
      ]
     },
     "metadata": {},
     "output_type": "display_data"
    }
   ],
   "source": [
    "x = np.random.poisson(lam=2, size=1000)\n",
    "sns.distplot(x, kde=False)\n",
    "\n",
    "plt.figure(figsize=(15,5))\n",
    "plt.show()"
   ]
  },
  {
   "cell_type": "markdown",
   "id": "fcaa6c24",
   "metadata": {
    "id": "8y53DNv-Tjbe",
    "papermill": {
     "duration": 0.070904,
     "end_time": "2022-02-24T09:08:55.486756",
     "exception": false,
     "start_time": "2022-02-24T09:08:55.415852",
     "status": "completed"
    },
    "tags": []
   },
   "source": [
    "# **Örneklem Dağılımları**<a id=\"ÖrneklemDağılımları\"></a>\n",
    "Bir örneklem dağılımı, n boyutundaki örneklemler bir\n",
    "kitleden tekrar tekrar alındığında oluşan bir örneklem\n",
    "istatistiğinin olasılık dağılımıdır.\n",
    "\n",
    "<img src=\"https://docplayer.biz.tr/docs-images/29/13151266/images/5-0.png\" />\n",
    "\n",
    "## **Örneklem Dağılımlarının Özellikleri**\n",
    "- Örneklem ortalamasının ortalaması, kitle ortalamasına\n",
    "eşittir.\n",
    "- Örneklem ortalamasının standart sapması, kitle standart\n",
    "sapmasının kök n e bölümüne eşittir.\n",
    "\n",
    "Python ile daha detaylı inceleyelim.\n",
    "---\n",
    "\n",
    "\n"
   ]
  },
  {
   "cell_type": "code",
   "execution_count": 7,
   "id": "ceff395f",
   "metadata": {
    "execution": {
     "iopub.execute_input": "2022-02-24T09:08:55.633074Z",
     "iopub.status.busy": "2022-02-24T09:08:55.632059Z",
     "iopub.status.idle": "2022-02-24T09:08:56.100150Z",
     "shell.execute_reply": "2022-02-24T09:08:56.100701Z",
     "shell.execute_reply.started": "2022-02-23T17:27:04.743899Z"
    },
    "id": "jvfgq2wF0aqD",
    "outputId": "4ecb5b26-dc14-4782-c3ec-5f95ba0585c2",
    "papermill": {
     "duration": 0.543005,
     "end_time": "2022-02-24T09:08:56.100886",
     "exception": false,
     "start_time": "2022-02-24T09:08:55.557881",
     "status": "completed"
    },
    "tags": []
   },
   "outputs": [
    {
     "name": "stdout",
     "output_type": "stream",
     "text": [
      "Kitlenin standart sapması: 14.361406616345072\n",
      "Kitlenin ortalaması 22.5\n",
      "Kitlenin varyansı 206.25\n",
      "\n"
     ]
    },
    {
     "data": {
      "text/plain": [
       "Text(6, 0.1, '$\\\\mu=22.5,\\\\ \\\\sigma=14.36$')"
      ]
     },
     "execution_count": 7,
     "metadata": {},
     "output_type": "execute_result"
    },
    {
     "data": {
      "image/png": "[encoded data removed]",
      "text/plain": [
       "<Figure size 720x216 with 1 Axes>"
      ]
     },
     "metadata": {
      "needs_background": "light"
     },
     "output_type": "display_data"
    }
   ],
   "source": [
    "\"\"\"\n",
    "Bu karmaşık açıklamalardansa adım adım gidelim ve daha net anlayalım. \n",
    "Elimizde bir popülasyon olsun. Popülasyonumuzdaki değerler [5, 10, 15, 20] olsun.\n",
    "\"\"\"\n",
    "pop = np.arange(0,50,5) #0, 5, 10, ... ,45\n",
    "\n",
    "#Kitlenin ortalaması, varyansı ve standart sapması\n",
    "std = pop.std()\n",
    "mean = pop.mean()\n",
    "var = pop.var()\n",
    "print('Kitlenin standart sapması:', std)\n",
    "print('Kitlenin ortalaması', mean)\n",
    "print('Kitlenin varyansı', var)\n",
    "print()\n",
    "\n",
    "\"\"\"\n",
    "Kitle değerleri için historgram grafiğini çizelim\n",
    "kitlede bir değer kaç kere geçiyorsa o kadar yüksek olasılıkla seçilir. Burada her değerimizin olasılığı eşittir.\n",
    "\"\"\"\n",
    "#bunları bir bar grafiğinde gösterelim ve inceleyelim\n",
    "pop = pd.DataFrame(pop)\n",
    "prob = pd.DataFrame((pop.value_counts()/pop.shape[0]).values)\n",
    "\n",
    "fig, ax = plt.subplots(figsize =(10, 3))\n",
    "ax.bar(pop[0].values, prob[0].values)\n",
    "\n",
    "plt.xticks(pop, color='b')\n",
    "plt.yticks(prob, color='b')\n",
    "plt.ylabel('Olasılık')\n",
    "plt.xlabel('Kitle değerleri')\n",
    "plt.title('Kitlenin olasılık histogramı')\n",
    "plt.text(6, 0.1, r'$\\mu=22.5,\\ \\sigma=14.36$')\n",
    "\n"
   ]
  },
  {
   "cell_type": "code",
   "execution_count": 8,
   "id": "80cfbe7e",
   "metadata": {
    "execution": {
     "iopub.execute_input": "2022-02-24T09:08:56.320899Z",
     "iopub.status.busy": "2022-02-24T09:08:56.257659Z",
     "iopub.status.idle": "2022-02-24T09:08:56.331174Z",
     "shell.execute_reply": "2022-02-24T09:08:56.330583Z",
     "shell.execute_reply.started": "2022-02-23T17:27:05.222469Z"
    },
    "id": "UUACfIhpo3UM",
    "outputId": "10dd5520-7a94-47f2-8c61-3e9cf489ec50",
    "papermill": {
     "duration": 0.156327,
     "end_time": "2022-02-24T09:08:56.331329",
     "exception": false,
     "start_time": "2022-02-24T09:08:56.175002",
     "status": "completed"
    },
    "tags": []
   },
   "outputs": [
    {
     "data": {
      "text/html": [
       "<div>\n",
       "<style scoped>\n",
       "    .dataframe tbody tr th:only-of-type {\n",
       "        vertical-align: middle;\n",
       "    }\n",
       "\n",
       "    .dataframe tbody tr th {\n",
       "        vertical-align: top;\n",
       "    }\n",
       "\n",
       "    .dataframe thead th {\n",
       "        text-align: right;\n",
       "    }\n",
       "</style>\n",
       "<table border=\"1\" class=\"dataframe\">\n",
       "  <thead>\n",
       "    <tr style=\"text-align: right;\">\n",
       "      <th></th>\n",
       "      <th>Örnek1</th>\n",
       "      <th>Örnek2</th>\n",
       "      <th>ÖrneklemOrtalaması</th>\n",
       "    </tr>\n",
       "  </thead>\n",
       "  <tbody>\n",
       "    <tr>\n",
       "      <th>0</th>\n",
       "      <td>0</td>\n",
       "      <td>30</td>\n",
       "      <td>15.0</td>\n",
       "    </tr>\n",
       "    <tr>\n",
       "      <th>1</th>\n",
       "      <td>40</td>\n",
       "      <td>10</td>\n",
       "      <td>25.0</td>\n",
       "    </tr>\n",
       "  </tbody>\n",
       "</table>\n",
       "</div>"
      ],
      "text/plain": [
       "   Örnek1  Örnek2  ÖrneklemOrtalaması\n",
       "0       0      30                15.0\n",
       "1      40      10                25.0"
      ]
     },
     "execution_count": 8,
     "metadata": {},
     "output_type": "execute_result"
    }
   ],
   "source": [
    "\n",
    "#şimdi kitlemizden n=2 şer tane rastgele örneklemler alalım\n",
    "samples = []\n",
    "sample_means = []\n",
    "for i in range(1000):\n",
    "  sample = np.random.choice(pop[0].values, 2)\n",
    "  samples.append(list(sample))\n",
    "  #bu örneklemlerin ortalamasını alalım. Bu ortalamalar örneklem ortalamalarının örneklem dağılımını oluşturur.\n",
    "  sample_mean = sample.mean()\n",
    "  sample_means.append(sample_mean)\n",
    "\n",
    "df1= pd.DataFrame(samples, columns = ['Örnek1', 'Örnek2'])\n",
    "df2= pd.DataFrame(sample_means, columns=['ÖrneklemOrtalaması'])\n",
    "df = pd.concat([df1, df2], axis = 1)\n",
    "df.head(2)\n"
   ]
  },
  {
   "cell_type": "code",
   "execution_count": 9,
   "id": "90a3f0e1",
   "metadata": {
    "execution": {
     "iopub.execute_input": "2022-02-24T09:08:56.490946Z",
     "iopub.status.busy": "2022-02-24T09:08:56.489922Z",
     "iopub.status.idle": "2022-02-24T09:08:56.501539Z",
     "shell.execute_reply": "2022-02-24T09:08:56.500993Z",
     "shell.execute_reply.started": "2022-02-23T17:27:05.303868Z"
    },
    "id": "t7xDlcntv-YQ",
    "outputId": "efbec4e5-72ea-4fc8-f45b-d9dfc409a95a",
    "papermill": {
     "duration": 0.096403,
     "end_time": "2022-02-24T09:08:56.501677",
     "exception": false,
     "start_time": "2022-02-24T09:08:56.405274",
     "status": "completed"
    },
    "tags": []
   },
   "outputs": [
    {
     "data": {
      "text/html": [
       "<div>\n",
       "<style scoped>\n",
       "    .dataframe tbody tr th:only-of-type {\n",
       "        vertical-align: middle;\n",
       "    }\n",
       "\n",
       "    .dataframe tbody tr th {\n",
       "        vertical-align: top;\n",
       "    }\n",
       "\n",
       "    .dataframe thead th {\n",
       "        text-align: right;\n",
       "    }\n",
       "</style>\n",
       "<table border=\"1\" class=\"dataframe\">\n",
       "  <thead>\n",
       "    <tr style=\"text-align: right;\">\n",
       "      <th></th>\n",
       "      <th>Ortalama</th>\n",
       "      <th>Frekans</th>\n",
       "      <th>Olasılık</th>\n",
       "    </tr>\n",
       "  </thead>\n",
       "  <tbody>\n",
       "    <tr>\n",
       "      <th>0</th>\n",
       "      <td>20.0</td>\n",
       "      <td>98</td>\n",
       "      <td>0.229240</td>\n",
       "    </tr>\n",
       "    <tr>\n",
       "      <th>1</th>\n",
       "      <td>15.0</td>\n",
       "      <td>97</td>\n",
       "      <td>0.226901</td>\n",
       "    </tr>\n",
       "  </tbody>\n",
       "</table>\n",
       "</div>"
      ],
      "text/plain": [
       "   Ortalama  Frekans  Olasılık\n",
       "0      20.0       98  0.229240\n",
       "1      15.0       97  0.226901"
      ]
     },
     "execution_count": 9,
     "metadata": {},
     "output_type": "execute_result"
    }
   ],
   "source": [
    "#Örneklem ortalamasının olasılık dağılımını oluşturalım\n",
    "vals = df.ÖrneklemOrtalaması.value_counts() #bu bize her ortalamayı ve kaç kere tekrarlandığını verecek\n",
    "probdist = pd.DataFrame(vals).reset_index() #value_counts değerlerine erişebilmek için reset_index\n",
    "probdist.columns = ['Ortalama', 'Frekans']\n",
    "probdist['Olasılık'] = probdist.Frekans / probdist.Ortalama.sum() #frekans/toplam frekans olasılık\n",
    "probdist.head(2)"
   ]
  },
  {
   "cell_type": "code",
   "execution_count": 10,
   "id": "c5adebc0",
   "metadata": {
    "execution": {
     "iopub.execute_input": "2022-02-24T09:08:56.671347Z",
     "iopub.status.busy": "2022-02-24T09:08:56.670664Z",
     "iopub.status.idle": "2022-02-24T09:08:56.824218Z",
     "shell.execute_reply": "2022-02-24T09:08:56.824747Z",
     "shell.execute_reply.started": "2022-02-23T17:27:05.323941Z"
    },
    "id": "LuFtYmTlzWKB",
    "outputId": "4493e104-5381-4970-d9ad-13674d2cc1a8",
    "papermill": {
     "duration": 0.248468,
     "end_time": "2022-02-24T09:08:56.824917",
     "exception": false,
     "start_time": "2022-02-24T09:08:56.576449",
     "status": "completed"
    },
    "tags": []
   },
   "outputs": [
    {
     "data": {
      "text/plain": [
       "<BarContainer object of 19 artists>"
      ]
     },
     "execution_count": 10,
     "metadata": {},
     "output_type": "execute_result"
    },
    {
     "data": {
      "image/png": "[encoded data removed]",
      "text/plain": [
       "<Figure size 720x216 with 1 Axes>"
      ]
     },
     "metadata": {
      "needs_background": "light"
     },
     "output_type": "display_data"
    }
   ],
   "source": [
    " #şimdi bunların dağılımını çizelim\n",
    " fig, ax = plt.subplots(figsize =(10, 3))\n",
    "ax.bar(probdist['Ortalama'], probdist['Olasılık'])"
   ]
  },
  {
   "cell_type": "markdown",
   "id": "8d1b5903",
   "metadata": {
    "id": "PZENh7dp1qi2",
    "papermill": {
     "duration": 0.075377,
     "end_time": "2022-02-24T09:08:56.976692",
     "exception": false,
     "start_time": "2022-02-24T09:08:56.901315",
     "status": "completed"
    },
    "tags": []
   },
   "source": [
    "Özet geçecek olursak:\n",
    "Bir popülasyondan örneklemler alıp olasılıklarını hesapladığımızda, bu olaslıkların dağılımı normal dağılımdır.\n",
    "\n",
    "\n",
    "---\n",
    "\n",
    "\n",
    "\n",
    "\n",
    "\n"
   ]
  },
  {
   "cell_type": "markdown",
   "id": "b7a8ddd0",
   "metadata": {
    "id": "kjXZsAWu2olv",
    "papermill": {
     "duration": 0.075354,
     "end_time": "2022-02-24T09:08:57.128342",
     "exception": false,
     "start_time": "2022-02-24T09:08:57.052988",
     "status": "completed"
    },
    "tags": []
   },
   "source": [
    "\n",
    "# **Merkezi Limit Teoremi**<a id=\"MerkeziLimitTeoremi\"></a>\n",
    "\n",
    "Dünyadaki insanların ortalama boyunu tahmin etmekle ilgilendiğimizi varsayalım. Dünyadaki her insan için veri toplamak imkansıza yakındır. Popülasyondaki herkesten boy ölçümü elde edemesek de yine de bazı insanları örnekleyebiliriz. \n",
    "\n",
    "Merkezi limit teoremi büyük bir sayıda olan bağımsız ve aynı dağılım gösteren rassal değişkenlerin (eğer sonlu varyans değerleri bulunuyorsa) aritmetik ortalamasının, yaklaşık olarak normal dağılım (yani **Gauss dağılımı**) göstereceğini ifade eden bir teoremdir.[1]\n",
    "\n",
    "Bu tanımlamaları kenara bırakıp daha basite indirecek olursak: \n",
    "Ortalama = $\\mu$ ve standart sapma = $\\sigma$ olan herhangi bir\n",
    "dağılım türüne sahip bir popülasyondan n $\\geq$ 30\n",
    "büyüklüğünde bir örneklem alındığında, örneklem ortalaması **normal dağılıma** yakınsar.\n",
    "\n",
    "<img src=\"https://miro.medium.com/max/1400/0*g8NCsB8qr-yJss-X\" />\n",
    "\n",
    "---\n",
    "\n",
    "\n",
    "\n",
    "[1]https://tr.wikipedia.org/wiki/Merkez%C3%AE_limit_teoremi"
   ]
  },
  {
   "cell_type": "code",
   "execution_count": 11,
   "id": "cc0bd045",
   "metadata": {
    "execution": {
     "iopub.execute_input": "2022-02-24T09:08:57.285847Z",
     "iopub.status.busy": "2022-02-24T09:08:57.285147Z",
     "iopub.status.idle": "2022-02-24T09:08:58.102039Z",
     "shell.execute_reply": "2022-02-24T09:08:58.102515Z",
     "shell.execute_reply.started": "2022-02-23T17:27:05.549011Z"
    },
    "id": "5uuLrbMmVclT",
    "outputId": "b7394b47-c423-4d2d-986c-87ec3cf45fc3",
    "papermill": {
     "duration": 0.897216,
     "end_time": "2022-02-24T09:08:58.102689",
     "exception": false,
     "start_time": "2022-02-24T09:08:57.205473",
     "status": "completed"
    },
    "tags": []
   },
   "outputs": [
    {
     "data": {
      "image/png": "[encoded data removed]",
      "text/plain": [
       "<Figure size 576x576 with 4 Axes>"
      ]
     },
     "metadata": {
      "needs_background": "light"
     },
     "output_type": "display_data"
    }
   ],
   "source": [
    "#Ne demiştik? Bir popülasyonun dağılımına bakılmaksızın, popülasyondan aldığımız örneklemlerin ortalamalarının dağılımı normal dağılıma uyacaktır.\n",
    "\n",
    "# örneklem sayısı\n",
    "num = [1, 10, 50, 100] \n",
    "# örneklem ortalamaları listesi\n",
    "means = [] \n",
    "\n",
    "# 1,10,50 ve 100 adet -40 dan 40a kadar değişen rastgele sayılar \n",
    "# üretip ortalamalarını alalım ve 'means' boş listemize ekleyelim\n",
    "for j in num:\n",
    "    # Bir seed tanımlayalım. Bu her çalıştırdığımızda aynı sonucu almamız için rastgeleliği sabitliyor. \n",
    "    #Yani hem rastgele hem de tekrar üretilebilirlik katıyor.\n",
    "    np.random.seed(1)\n",
    "    x = [np.mean(\n",
    "        np.random.randint(-40, 40, j)) for _i in range(1000)]\n",
    "    means.append(x)\n",
    "k = 0\n",
    " \n",
    "# bütün ortalamaları aynı grafikte göstermek için subplot ekleyip çizdirelim.\n",
    "fig, ax = plt.subplots(2, 2, figsize =(8, 8))\n",
    "for i in range(0, 2):\n",
    "    for j in range(0, 2):\n",
    "        ax[i, j].hist(means[k], 10, density = True)\n",
    "        ax[i, j].set_title(label = num[k])\n",
    "        k = k + 1\n",
    "\n",
    "plt.show()"
   ]
  },
  {
   "cell_type": "markdown",
   "id": "e0592833",
   "metadata": {
    "id": "sPhyaIDLUvja",
    "papermill": {
     "duration": 0.077562,
     "end_time": "2022-02-24T09:08:58.256709",
     "exception": false,
     "start_time": "2022-02-24T09:08:58.179147",
     "status": "completed"
    },
    "tags": []
   },
   "source": [
    "# **Örnekleme Yöntemleri (Sampling Methods)**<a id=\"ÖrneklemeYöntemleri\"></a>\n",
    "---\n",
    "<center><img src=\"https://miro.medium.com/max/1054/1*VAZ-rMLxoXWS-poJAztQ_g.png\n",
    "\" /></center>\n",
    "\n",
    "Daha önce de bahsettiğim gibi, yaşayan herkesin boyunu ve kilosunu ölçmek imkansıza yakındır. Böyle büyük popülasyonlarda çıkarım yapabilmek için örneklemler yapılr. Örneklem almanın farklı farklı yolları vardır. Örneğin 10.000 kişilik bir grupta maaş ortalaması alacağız. Sadece doktorları, mühendisleri alıp diğer mesleklere daha az verirsek taraflı bir örneklem yapmış olacağız. Eğer bir örneklem rastgele şekilde seçilmemişse, büyük ihtimalle taraflı olacaktır ve veri popülasyonu temsil etmiyor olabilir.\n",
    "Şimdi gelin bu örneklem alma yöntemlerine bakalım.\n",
    "\n",
    "- Rastgele örneklemleme (Random sampling): Seçilecek her kişinin, değerin veya grubun örnekleme katılma olasılığı tamamen eşit ve rastgeledir. Örnek: Tombala\n",
    "- Katmanlı örnekleme (Stratified Sampling): Popülasonu önce gruplara ayırırız. Tüm örnekte her gruptan bazı üyeler bulunur. Bu gruplardan rastgele üyeler seçilir. Örneğin: Üniversite araştırma anketi yapılacak ve 100 tane 1. sınıf, 100 tane 2. sınıf, 100 tane 3. sınıf ve 100 tane de 4. sınıf öğrencisi seçilir.\n",
    "\n",
    "- Küme örnekleme (cluster sampling): Popülasyon önce gruplara ayrılır. Bütün örnekte, grupların bazılarının her üyesi bulunur. Gruplar rastgele seçilmiştir.\n",
    "\n",
    "- Sistematik örnekleme (systematic sampling): Popülasyonun üyeleri sıralanır. Rastgele şekilde bir başlama noktası seçilir ve her n. üye örneğe eklenmek üzere seçilir.\n",
    "\n",
    "---\n",
    "\n",
    "Daha detaylı bilgi için:\n",
    "\n",
    "https://towardsdatascience.com/8-types-of-sampling-techniques-b21adcdd2124\n",
    "\n",
    "https://www.questionpro.com/blog/types-of-sampling-for-social-research/\n"
   ]
  },
  {
   "cell_type": "code",
   "execution_count": 12,
   "id": "2936e3ca",
   "metadata": {
    "execution": {
     "iopub.execute_input": "2022-02-24T09:08:58.415178Z",
     "iopub.status.busy": "2022-02-24T09:08:58.413154Z",
     "iopub.status.idle": "2022-02-24T09:08:58.444953Z",
     "shell.execute_reply": "2022-02-24T09:08:58.444448Z",
     "shell.execute_reply.started": "2022-02-23T17:27:06.398291Z"
    },
    "id": "3ZJY8pq_Y_Xk",
    "outputId": "f360adbe-47c3-4cdc-892c-30c41f8acb44",
    "papermill": {
     "duration": 0.111146,
     "end_time": "2022-02-24T09:08:58.445115",
     "exception": false,
     "start_time": "2022-02-24T09:08:58.333969",
     "status": "completed"
    },
    "tags": []
   },
   "outputs": [
    {
     "data": {
      "text/html": [
       "<div>\n",
       "<style scoped>\n",
       "    .dataframe tbody tr th:only-of-type {\n",
       "        vertical-align: middle;\n",
       "    }\n",
       "\n",
       "    .dataframe tbody tr th {\n",
       "        vertical-align: top;\n",
       "    }\n",
       "\n",
       "    .dataframe thead th {\n",
       "        text-align: right;\n",
       "    }\n",
       "</style>\n",
       "<table border=\"1\" class=\"dataframe\">\n",
       "  <thead>\n",
       "    <tr style=\"text-align: right;\">\n",
       "      <th></th>\n",
       "      <th>PassengerId</th>\n",
       "      <th>Survived</th>\n",
       "      <th>Pclass</th>\n",
       "      <th>Name</th>\n",
       "      <th>Sex</th>\n",
       "      <th>Age</th>\n",
       "      <th>SibSp</th>\n",
       "      <th>Parch</th>\n",
       "      <th>Ticket</th>\n",
       "      <th>Fare</th>\n",
       "      <th>Cabin</th>\n",
       "      <th>Embarked</th>\n",
       "    </tr>\n",
       "  </thead>\n",
       "  <tbody>\n",
       "    <tr>\n",
       "      <th>0</th>\n",
       "      <td>1</td>\n",
       "      <td>0</td>\n",
       "      <td>3</td>\n",
       "      <td>Braund, Mr. Owen Harris</td>\n",
       "      <td>male</td>\n",
       "      <td>22.0</td>\n",
       "      <td>1</td>\n",
       "      <td>0</td>\n",
       "      <td>A/5 21171</td>\n",
       "      <td>7.2500</td>\n",
       "      <td>NaN</td>\n",
       "      <td>S</td>\n",
       "    </tr>\n",
       "    <tr>\n",
       "      <th>1</th>\n",
       "      <td>2</td>\n",
       "      <td>1</td>\n",
       "      <td>1</td>\n",
       "      <td>Cumings, Mrs. John Bradley (Florence Briggs Th...</td>\n",
       "      <td>female</td>\n",
       "      <td>38.0</td>\n",
       "      <td>1</td>\n",
       "      <td>0</td>\n",
       "      <td>PC 17599</td>\n",
       "      <td>71.2833</td>\n",
       "      <td>C85</td>\n",
       "      <td>C</td>\n",
       "    </tr>\n",
       "    <tr>\n",
       "      <th>2</th>\n",
       "      <td>3</td>\n",
       "      <td>1</td>\n",
       "      <td>3</td>\n",
       "      <td>Heikkinen, Miss. Laina</td>\n",
       "      <td>female</td>\n",
       "      <td>26.0</td>\n",
       "      <td>0</td>\n",
       "      <td>0</td>\n",
       "      <td>STON/O2. 3101282</td>\n",
       "      <td>7.9250</td>\n",
       "      <td>NaN</td>\n",
       "      <td>S</td>\n",
       "    </tr>\n",
       "  </tbody>\n",
       "</table>\n",
       "</div>"
      ],
      "text/plain": [
       "   PassengerId  Survived  Pclass  \\\n",
       "0            1         0       3   \n",
       "1            2         1       1   \n",
       "2            3         1       3   \n",
       "\n",
       "                                                Name     Sex   Age  SibSp  \\\n",
       "0                            Braund, Mr. Owen Harris    male  22.0      1   \n",
       "1  Cumings, Mrs. John Bradley (Florence Briggs Th...  female  38.0      1   \n",
       "2                             Heikkinen, Miss. Laina  female  26.0      0   \n",
       "\n",
       "   Parch            Ticket     Fare Cabin Embarked  \n",
       "0      0         A/5 21171   7.2500   NaN        S  \n",
       "1      0          PC 17599  71.2833   C85        C  \n",
       "2      0  STON/O2. 3101282   7.9250   NaN        S  "
      ]
     },
     "execution_count": 12,
     "metadata": {},
     "output_type": "execute_result"
    }
   ],
   "source": [
    "# Bazı uygulamalar\n",
    "df = pd.read_csv('../input/titanic-dataset/Titanic-Dataset.csv')\n",
    "df.head(3)"
   ]
  },
  {
   "cell_type": "code",
   "execution_count": 13,
   "id": "e11a51b9",
   "metadata": {
    "execution": {
     "iopub.execute_input": "2022-02-24T09:08:58.616472Z",
     "iopub.status.busy": "2022-02-24T09:08:58.615670Z",
     "iopub.status.idle": "2022-02-24T09:08:58.620330Z",
     "shell.execute_reply": "2022-02-24T09:08:58.619665Z",
     "shell.execute_reply.started": "2022-02-23T17:27:06.434143Z"
    },
    "id": "ndyyUHwQZRUg",
    "outputId": "6b8c297e-83c9-4451-f9a1-b9295498230e",
    "papermill": {
     "duration": 0.097864,
     "end_time": "2022-02-24T09:08:58.620485",
     "exception": false,
     "start_time": "2022-02-24T09:08:58.522621",
     "status": "completed"
    },
    "tags": []
   },
   "outputs": [
    {
     "data": {
      "text/html": [
       "<div>\n",
       "<style scoped>\n",
       "    .dataframe tbody tr th:only-of-type {\n",
       "        vertical-align: middle;\n",
       "    }\n",
       "\n",
       "    .dataframe tbody tr th {\n",
       "        vertical-align: top;\n",
       "    }\n",
       "\n",
       "    .dataframe thead th {\n",
       "        text-align: right;\n",
       "    }\n",
       "</style>\n",
       "<table border=\"1\" class=\"dataframe\">\n",
       "  <thead>\n",
       "    <tr style=\"text-align: right;\">\n",
       "      <th></th>\n",
       "      <th>PassengerId</th>\n",
       "      <th>Survived</th>\n",
       "      <th>Pclass</th>\n",
       "      <th>Name</th>\n",
       "      <th>Sex</th>\n",
       "      <th>Age</th>\n",
       "      <th>SibSp</th>\n",
       "      <th>Parch</th>\n",
       "      <th>Ticket</th>\n",
       "      <th>Fare</th>\n",
       "      <th>Cabin</th>\n",
       "      <th>Embarked</th>\n",
       "    </tr>\n",
       "  </thead>\n",
       "  <tbody>\n",
       "    <tr>\n",
       "      <th>316</th>\n",
       "      <td>317</td>\n",
       "      <td>1</td>\n",
       "      <td>2</td>\n",
       "      <td>Kantor, Mrs. Sinai (Miriam Sternin)</td>\n",
       "      <td>female</td>\n",
       "      <td>24.0</td>\n",
       "      <td>1</td>\n",
       "      <td>0</td>\n",
       "      <td>244367</td>\n",
       "      <td>26.000</td>\n",
       "      <td>NaN</td>\n",
       "      <td>S</td>\n",
       "    </tr>\n",
       "    <tr>\n",
       "      <th>537</th>\n",
       "      <td>538</td>\n",
       "      <td>1</td>\n",
       "      <td>1</td>\n",
       "      <td>LeRoy, Miss. Bertha</td>\n",
       "      <td>female</td>\n",
       "      <td>30.0</td>\n",
       "      <td>0</td>\n",
       "      <td>0</td>\n",
       "      <td>PC 17761</td>\n",
       "      <td>106.425</td>\n",
       "      <td>NaN</td>\n",
       "      <td>C</td>\n",
       "    </tr>\n",
       "    <tr>\n",
       "      <th>142</th>\n",
       "      <td>143</td>\n",
       "      <td>1</td>\n",
       "      <td>3</td>\n",
       "      <td>Hakkarainen, Mrs. Pekka Pietari (Elin Matilda ...</td>\n",
       "      <td>female</td>\n",
       "      <td>24.0</td>\n",
       "      <td>1</td>\n",
       "      <td>0</td>\n",
       "      <td>STON/O2. 3101279</td>\n",
       "      <td>15.850</td>\n",
       "      <td>NaN</td>\n",
       "      <td>S</td>\n",
       "    </tr>\n",
       "  </tbody>\n",
       "</table>\n",
       "</div>"
      ],
      "text/plain": [
       "     PassengerId  Survived  Pclass  \\\n",
       "316          317         1       2   \n",
       "537          538         1       1   \n",
       "142          143         1       3   \n",
       "\n",
       "                                                  Name     Sex   Age  SibSp  \\\n",
       "316                Kantor, Mrs. Sinai (Miriam Sternin)  female  24.0      1   \n",
       "537                                LeRoy, Miss. Bertha  female  30.0      0   \n",
       "142  Hakkarainen, Mrs. Pekka Pietari (Elin Matilda ...  female  24.0      1   \n",
       "\n",
       "     Parch            Ticket     Fare Cabin Embarked  \n",
       "316      0            244367   26.000   NaN        S  \n",
       "537      0          PC 17761  106.425   NaN        C  \n",
       "142      0  STON/O2. 3101279   15.850   NaN        S  "
      ]
     },
     "execution_count": 13,
     "metadata": {},
     "output_type": "execute_result"
    }
   ],
   "source": [
    "#rastgele örnekleme\n",
    "df.sample(200).head(3)"
   ]
  },
  {
   "cell_type": "code",
   "execution_count": 14,
   "id": "43ac5fd1",
   "metadata": {
    "execution": {
     "iopub.execute_input": "2022-02-24T09:08:58.795723Z",
     "iopub.status.busy": "2022-02-24T09:08:58.795016Z",
     "iopub.status.idle": "2022-02-24T09:08:58.798648Z",
     "shell.execute_reply": "2022-02-24T09:08:58.799118Z",
     "shell.execute_reply.started": "2022-02-23T17:27:06.454457Z"
    },
    "id": "qFTOkIC2ZVkc",
    "outputId": "e9b8bf2a-547d-407a-f004-f6ed674e0161",
    "papermill": {
     "duration": 0.098781,
     "end_time": "2022-02-24T09:08:58.799314",
     "exception": false,
     "start_time": "2022-02-24T09:08:58.700533",
     "status": "completed"
    },
    "tags": []
   },
   "outputs": [
    {
     "data": {
      "text/html": [
       "<div>\n",
       "<style scoped>\n",
       "    .dataframe tbody tr th:only-of-type {\n",
       "        vertical-align: middle;\n",
       "    }\n",
       "\n",
       "    .dataframe tbody tr th {\n",
       "        vertical-align: top;\n",
       "    }\n",
       "\n",
       "    .dataframe thead th {\n",
       "        text-align: right;\n",
       "    }\n",
       "</style>\n",
       "<table border=\"1\" class=\"dataframe\">\n",
       "  <thead>\n",
       "    <tr style=\"text-align: right;\">\n",
       "      <th></th>\n",
       "      <th>PassengerId</th>\n",
       "      <th>Survived</th>\n",
       "      <th>Pclass</th>\n",
       "      <th>Name</th>\n",
       "      <th>Sex</th>\n",
       "      <th>Age</th>\n",
       "      <th>SibSp</th>\n",
       "      <th>Parch</th>\n",
       "      <th>Ticket</th>\n",
       "      <th>Fare</th>\n",
       "      <th>Cabin</th>\n",
       "      <th>Embarked</th>\n",
       "    </tr>\n",
       "  </thead>\n",
       "  <tbody>\n",
       "    <tr>\n",
       "      <th>0</th>\n",
       "      <td>1</td>\n",
       "      <td>0</td>\n",
       "      <td>3</td>\n",
       "      <td>Braund, Mr. Owen Harris</td>\n",
       "      <td>male</td>\n",
       "      <td>22.0</td>\n",
       "      <td>1</td>\n",
       "      <td>0</td>\n",
       "      <td>A/5 21171</td>\n",
       "      <td>7.2500</td>\n",
       "      <td>NaN</td>\n",
       "      <td>S</td>\n",
       "    </tr>\n",
       "    <tr>\n",
       "      <th>3</th>\n",
       "      <td>4</td>\n",
       "      <td>1</td>\n",
       "      <td>1</td>\n",
       "      <td>Futrelle, Mrs. Jacques Heath (Lily May Peel)</td>\n",
       "      <td>female</td>\n",
       "      <td>35.0</td>\n",
       "      <td>1</td>\n",
       "      <td>0</td>\n",
       "      <td>113803</td>\n",
       "      <td>53.1000</td>\n",
       "      <td>C123</td>\n",
       "      <td>S</td>\n",
       "    </tr>\n",
       "    <tr>\n",
       "      <th>6</th>\n",
       "      <td>7</td>\n",
       "      <td>0</td>\n",
       "      <td>1</td>\n",
       "      <td>McCarthy, Mr. Timothy J</td>\n",
       "      <td>male</td>\n",
       "      <td>54.0</td>\n",
       "      <td>0</td>\n",
       "      <td>0</td>\n",
       "      <td>17463</td>\n",
       "      <td>51.8625</td>\n",
       "      <td>E46</td>\n",
       "      <td>S</td>\n",
       "    </tr>\n",
       "  </tbody>\n",
       "</table>\n",
       "</div>"
      ],
      "text/plain": [
       "   PassengerId  Survived  Pclass  \\\n",
       "0            1         0       3   \n",
       "3            4         1       1   \n",
       "6            7         0       1   \n",
       "\n",
       "                                           Name     Sex   Age  SibSp  Parch  \\\n",
       "0                       Braund, Mr. Owen Harris    male  22.0      1      0   \n",
       "3  Futrelle, Mrs. Jacques Heath (Lily May Peel)  female  35.0      1      0   \n",
       "6                       McCarthy, Mr. Timothy J    male  54.0      0      0   \n",
       "\n",
       "      Ticket     Fare Cabin Embarked  \n",
       "0  A/5 21171   7.2500   NaN        S  \n",
       "3     113803  53.1000  C123        S  \n",
       "6      17463  51.8625   E46        S  "
      ]
     },
     "execution_count": 14,
     "metadata": {},
     "output_type": "execute_result"
    }
   ],
   "source": [
    "#sistematik örnekleme\n",
    "def systematic_sampling(df, step):\n",
    " \n",
    "    indexes = np.arange(0, len(df), step=step)\n",
    "    systematic_sample = df.iloc[indexes]\n",
    "    return systematic_sample\n",
    " \n",
    "\n",
    "systematic_sample = systematic_sampling(df, 3)\n",
    "\n",
    "systematic_sample.head(3)"
   ]
  },
  {
   "cell_type": "code",
   "execution_count": 15,
   "id": "b5813768",
   "metadata": {
    "execution": {
     "iopub.execute_input": "2022-02-24T09:08:58.965384Z",
     "iopub.status.busy": "2022-02-24T09:08:58.964705Z",
     "iopub.status.idle": "2022-02-24T09:08:58.989818Z",
     "shell.execute_reply": "2022-02-24T09:08:58.990357Z",
     "shell.execute_reply.started": "2022-02-23T17:27:06.476211Z"
    },
    "id": "xBOzf0DgZb1e",
    "outputId": "53110d14-d0a6-4b9d-a219-c61e9f6f7401",
    "papermill": {
     "duration": 0.112668,
     "end_time": "2022-02-24T09:08:58.990527",
     "exception": false,
     "start_time": "2022-02-24T09:08:58.877859",
     "status": "completed"
    },
    "tags": []
   },
   "outputs": [
    {
     "data": {
      "text/html": [
       "<div>\n",
       "<style scoped>\n",
       "    .dataframe tbody tr th:only-of-type {\n",
       "        vertical-align: middle;\n",
       "    }\n",
       "\n",
       "    .dataframe tbody tr th {\n",
       "        vertical-align: top;\n",
       "    }\n",
       "\n",
       "    .dataframe thead th {\n",
       "        text-align: right;\n",
       "    }\n",
       "</style>\n",
       "<table border=\"1\" class=\"dataframe\">\n",
       "  <thead>\n",
       "    <tr style=\"text-align: right;\">\n",
       "      <th></th>\n",
       "      <th>PassengerId</th>\n",
       "      <th>Survived</th>\n",
       "      <th>Pclass</th>\n",
       "      <th>Name</th>\n",
       "      <th>Sex</th>\n",
       "      <th>Age</th>\n",
       "      <th>SibSp</th>\n",
       "      <th>Parch</th>\n",
       "      <th>Ticket</th>\n",
       "      <th>Fare</th>\n",
       "      <th>Cabin</th>\n",
       "      <th>Embarked</th>\n",
       "    </tr>\n",
       "  </thead>\n",
       "  <tbody>\n",
       "    <tr>\n",
       "      <th>0</th>\n",
       "      <td>626</td>\n",
       "      <td>0</td>\n",
       "      <td>1</td>\n",
       "      <td>Sutton, Mr. Frederick</td>\n",
       "      <td>male</td>\n",
       "      <td>61.0</td>\n",
       "      <td>0</td>\n",
       "      <td>0</td>\n",
       "      <td>36963</td>\n",
       "      <td>32.3208</td>\n",
       "      <td>D50</td>\n",
       "      <td>S</td>\n",
       "    </tr>\n",
       "    <tr>\n",
       "      <th>1</th>\n",
       "      <td>157</td>\n",
       "      <td>1</td>\n",
       "      <td>3</td>\n",
       "      <td>Gilnagh, Miss. Katherine \"Katie\"</td>\n",
       "      <td>female</td>\n",
       "      <td>16.0</td>\n",
       "      <td>0</td>\n",
       "      <td>0</td>\n",
       "      <td>35851</td>\n",
       "      <td>7.7333</td>\n",
       "      <td>NaN</td>\n",
       "      <td>Q</td>\n",
       "    </tr>\n",
       "    <tr>\n",
       "      <th>2</th>\n",
       "      <td>212</td>\n",
       "      <td>1</td>\n",
       "      <td>2</td>\n",
       "      <td>Cameron, Miss. Clear Annie</td>\n",
       "      <td>female</td>\n",
       "      <td>35.0</td>\n",
       "      <td>0</td>\n",
       "      <td>0</td>\n",
       "      <td>F.C.C. 13528</td>\n",
       "      <td>21.0000</td>\n",
       "      <td>NaN</td>\n",
       "      <td>S</td>\n",
       "    </tr>\n",
       "    <tr>\n",
       "      <th>3</th>\n",
       "      <td>99</td>\n",
       "      <td>1</td>\n",
       "      <td>2</td>\n",
       "      <td>Doling, Mrs. John T (Ada Julia Bone)</td>\n",
       "      <td>female</td>\n",
       "      <td>34.0</td>\n",
       "      <td>0</td>\n",
       "      <td>1</td>\n",
       "      <td>231919</td>\n",
       "      <td>23.0000</td>\n",
       "      <td>NaN</td>\n",
       "      <td>S</td>\n",
       "    </tr>\n",
       "    <tr>\n",
       "      <th>4</th>\n",
       "      <td>424</td>\n",
       "      <td>0</td>\n",
       "      <td>3</td>\n",
       "      <td>Danbom, Mrs. Ernst Gilbert (Anna Sigrid Maria ...</td>\n",
       "      <td>female</td>\n",
       "      <td>28.0</td>\n",
       "      <td>1</td>\n",
       "      <td>1</td>\n",
       "      <td>347080</td>\n",
       "      <td>14.4000</td>\n",
       "      <td>NaN</td>\n",
       "      <td>S</td>\n",
       "    </tr>\n",
       "    <tr>\n",
       "      <th>5</th>\n",
       "      <td>805</td>\n",
       "      <td>1</td>\n",
       "      <td>3</td>\n",
       "      <td>Hedman, Mr. Oskar Arvid</td>\n",
       "      <td>male</td>\n",
       "      <td>27.0</td>\n",
       "      <td>0</td>\n",
       "      <td>0</td>\n",
       "      <td>347089</td>\n",
       "      <td>6.9750</td>\n",
       "      <td>NaN</td>\n",
       "      <td>S</td>\n",
       "    </tr>\n",
       "    <tr>\n",
       "      <th>6</th>\n",
       "      <td>735</td>\n",
       "      <td>0</td>\n",
       "      <td>2</td>\n",
       "      <td>Troupiansky, Mr. Moses Aaron</td>\n",
       "      <td>male</td>\n",
       "      <td>23.0</td>\n",
       "      <td>0</td>\n",
       "      <td>0</td>\n",
       "      <td>233639</td>\n",
       "      <td>13.0000</td>\n",
       "      <td>NaN</td>\n",
       "      <td>S</td>\n",
       "    </tr>\n",
       "    <tr>\n",
       "      <th>7</th>\n",
       "      <td>880</td>\n",
       "      <td>1</td>\n",
       "      <td>1</td>\n",
       "      <td>Potter, Mrs. Thomas Jr (Lily Alexenia Wilson)</td>\n",
       "      <td>female</td>\n",
       "      <td>56.0</td>\n",
       "      <td>0</td>\n",
       "      <td>1</td>\n",
       "      <td>11767</td>\n",
       "      <td>83.1583</td>\n",
       "      <td>C50</td>\n",
       "      <td>C</td>\n",
       "    </tr>\n",
       "    <tr>\n",
       "      <th>8</th>\n",
       "      <td>452</td>\n",
       "      <td>0</td>\n",
       "      <td>3</td>\n",
       "      <td>Hagland, Mr. Ingvald Olai Olsen</td>\n",
       "      <td>male</td>\n",
       "      <td>NaN</td>\n",
       "      <td>1</td>\n",
       "      <td>0</td>\n",
       "      <td>65303</td>\n",
       "      <td>19.9667</td>\n",
       "      <td>NaN</td>\n",
       "      <td>S</td>\n",
       "    </tr>\n",
       "    <tr>\n",
       "      <th>9</th>\n",
       "      <td>155</td>\n",
       "      <td>0</td>\n",
       "      <td>3</td>\n",
       "      <td>Olsen, Mr. Ole Martin</td>\n",
       "      <td>male</td>\n",
       "      <td>NaN</td>\n",
       "      <td>0</td>\n",
       "      <td>0</td>\n",
       "      <td>Fa 265302</td>\n",
       "      <td>7.3125</td>\n",
       "      <td>NaN</td>\n",
       "      <td>S</td>\n",
       "    </tr>\n",
       "    <tr>\n",
       "      <th>10</th>\n",
       "      <td>279</td>\n",
       "      <td>0</td>\n",
       "      <td>3</td>\n",
       "      <td>Rice, Master. Eric</td>\n",
       "      <td>male</td>\n",
       "      <td>7.0</td>\n",
       "      <td>4</td>\n",
       "      <td>1</td>\n",
       "      <td>382652</td>\n",
       "      <td>29.1250</td>\n",
       "      <td>NaN</td>\n",
       "      <td>Q</td>\n",
       "    </tr>\n",
       "    <tr>\n",
       "      <th>11</th>\n",
       "      <td>303</td>\n",
       "      <td>0</td>\n",
       "      <td>3</td>\n",
       "      <td>Johnson, Mr. William Cahoone Jr</td>\n",
       "      <td>male</td>\n",
       "      <td>19.0</td>\n",
       "      <td>0</td>\n",
       "      <td>0</td>\n",
       "      <td>LINE</td>\n",
       "      <td>0.0000</td>\n",
       "      <td>NaN</td>\n",
       "      <td>S</td>\n",
       "    </tr>\n",
       "    <tr>\n",
       "      <th>12</th>\n",
       "      <td>257</td>\n",
       "      <td>1</td>\n",
       "      <td>1</td>\n",
       "      <td>Thorne, Mrs. Gertrude Maybelle</td>\n",
       "      <td>female</td>\n",
       "      <td>NaN</td>\n",
       "      <td>0</td>\n",
       "      <td>0</td>\n",
       "      <td>PC 17585</td>\n",
       "      <td>79.2000</td>\n",
       "      <td>NaN</td>\n",
       "      <td>C</td>\n",
       "    </tr>\n",
       "    <tr>\n",
       "      <th>13</th>\n",
       "      <td>747</td>\n",
       "      <td>0</td>\n",
       "      <td>3</td>\n",
       "      <td>Abbott, Mr. Rossmore Edward</td>\n",
       "      <td>male</td>\n",
       "      <td>16.0</td>\n",
       "      <td>1</td>\n",
       "      <td>1</td>\n",
       "      <td>C.A. 2673</td>\n",
       "      <td>20.2500</td>\n",
       "      <td>NaN</td>\n",
       "      <td>S</td>\n",
       "    </tr>\n",
       "    <tr>\n",
       "      <th>14</th>\n",
       "      <td>398</td>\n",
       "      <td>0</td>\n",
       "      <td>2</td>\n",
       "      <td>McKane, Mr. Peter David</td>\n",
       "      <td>male</td>\n",
       "      <td>46.0</td>\n",
       "      <td>0</td>\n",
       "      <td>0</td>\n",
       "      <td>28403</td>\n",
       "      <td>26.0000</td>\n",
       "      <td>NaN</td>\n",
       "      <td>S</td>\n",
       "    </tr>\n",
       "    <tr>\n",
       "      <th>15</th>\n",
       "      <td>430</td>\n",
       "      <td>1</td>\n",
       "      <td>3</td>\n",
       "      <td>Pickard, Mr. Berk (Berk Trembisky)</td>\n",
       "      <td>male</td>\n",
       "      <td>32.0</td>\n",
       "      <td>0</td>\n",
       "      <td>0</td>\n",
       "      <td>SOTON/O.Q. 392078</td>\n",
       "      <td>8.0500</td>\n",
       "      <td>E10</td>\n",
       "      <td>S</td>\n",
       "    </tr>\n",
       "    <tr>\n",
       "      <th>16</th>\n",
       "      <td>675</td>\n",
       "      <td>0</td>\n",
       "      <td>2</td>\n",
       "      <td>Watson, Mr. Ennis Hastings</td>\n",
       "      <td>male</td>\n",
       "      <td>NaN</td>\n",
       "      <td>0</td>\n",
       "      <td>0</td>\n",
       "      <td>239856</td>\n",
       "      <td>0.0000</td>\n",
       "      <td>NaN</td>\n",
       "      <td>S</td>\n",
       "    </tr>\n",
       "    <tr>\n",
       "      <th>17</th>\n",
       "      <td>715</td>\n",
       "      <td>0</td>\n",
       "      <td>2</td>\n",
       "      <td>Greenberg, Mr. Samuel</td>\n",
       "      <td>male</td>\n",
       "      <td>52.0</td>\n",
       "      <td>0</td>\n",
       "      <td>0</td>\n",
       "      <td>250647</td>\n",
       "      <td>13.0000</td>\n",
       "      <td>NaN</td>\n",
       "      <td>S</td>\n",
       "    </tr>\n",
       "    <tr>\n",
       "      <th>18</th>\n",
       "      <td>311</td>\n",
       "      <td>1</td>\n",
       "      <td>1</td>\n",
       "      <td>Hays, Miss. Margaret Bechstein</td>\n",
       "      <td>female</td>\n",
       "      <td>24.0</td>\n",
       "      <td>0</td>\n",
       "      <td>0</td>\n",
       "      <td>11767</td>\n",
       "      <td>83.1583</td>\n",
       "      <td>C54</td>\n",
       "      <td>C</td>\n",
       "    </tr>\n",
       "    <tr>\n",
       "      <th>19</th>\n",
       "      <td>466</td>\n",
       "      <td>0</td>\n",
       "      <td>3</td>\n",
       "      <td>Goncalves, Mr. Manuel Estanslas</td>\n",
       "      <td>male</td>\n",
       "      <td>38.0</td>\n",
       "      <td>0</td>\n",
       "      <td>0</td>\n",
       "      <td>SOTON/O.Q. 3101306</td>\n",
       "      <td>7.0500</td>\n",
       "      <td>NaN</td>\n",
       "      <td>S</td>\n",
       "    </tr>\n",
       "  </tbody>\n",
       "</table>\n",
       "</div>"
      ],
      "text/plain": [
       "    PassengerId  Survived  Pclass  \\\n",
       "0           626         0       1   \n",
       "1           157         1       3   \n",
       "2           212         1       2   \n",
       "3            99         1       2   \n",
       "4           424         0       3   \n",
       "5           805         1       3   \n",
       "6           735         0       2   \n",
       "7           880         1       1   \n",
       "8           452         0       3   \n",
       "9           155         0       3   \n",
       "10          279         0       3   \n",
       "11          303         0       3   \n",
       "12          257         1       1   \n",
       "13          747         0       3   \n",
       "14          398         0       2   \n",
       "15          430         1       3   \n",
       "16          675         0       2   \n",
       "17          715         0       2   \n",
       "18          311         1       1   \n",
       "19          466         0       3   \n",
       "\n",
       "                                                 Name     Sex   Age  SibSp  \\\n",
       "0                               Sutton, Mr. Frederick    male  61.0      0   \n",
       "1                    Gilnagh, Miss. Katherine \"Katie\"  female  16.0      0   \n",
       "2                          Cameron, Miss. Clear Annie  female  35.0      0   \n",
       "3                Doling, Mrs. John T (Ada Julia Bone)  female  34.0      0   \n",
       "4   Danbom, Mrs. Ernst Gilbert (Anna Sigrid Maria ...  female  28.0      1   \n",
       "5                             Hedman, Mr. Oskar Arvid    male  27.0      0   \n",
       "6                        Troupiansky, Mr. Moses Aaron    male  23.0      0   \n",
       "7       Potter, Mrs. Thomas Jr (Lily Alexenia Wilson)  female  56.0      0   \n",
       "8                     Hagland, Mr. Ingvald Olai Olsen    male   NaN      1   \n",
       "9                               Olsen, Mr. Ole Martin    male   NaN      0   \n",
       "10                                 Rice, Master. Eric    male   7.0      4   \n",
       "11                    Johnson, Mr. William Cahoone Jr    male  19.0      0   \n",
       "12                     Thorne, Mrs. Gertrude Maybelle  female   NaN      0   \n",
       "13                        Abbott, Mr. Rossmore Edward    male  16.0      1   \n",
       "14                            McKane, Mr. Peter David    male  46.0      0   \n",
       "15                 Pickard, Mr. Berk (Berk Trembisky)    male  32.0      0   \n",
       "16                         Watson, Mr. Ennis Hastings    male   NaN      0   \n",
       "17                              Greenberg, Mr. Samuel    male  52.0      0   \n",
       "18                     Hays, Miss. Margaret Bechstein  female  24.0      0   \n",
       "19                    Goncalves, Mr. Manuel Estanslas    male  38.0      0   \n",
       "\n",
       "    Parch              Ticket     Fare Cabin Embarked  \n",
       "0       0               36963  32.3208   D50        S  \n",
       "1       0               35851   7.7333   NaN        Q  \n",
       "2       0        F.C.C. 13528  21.0000   NaN        S  \n",
       "3       1              231919  23.0000   NaN        S  \n",
       "4       1              347080  14.4000   NaN        S  \n",
       "5       0              347089   6.9750   NaN        S  \n",
       "6       0              233639  13.0000   NaN        S  \n",
       "7       1               11767  83.1583   C50        C  \n",
       "8       0               65303  19.9667   NaN        S  \n",
       "9       0           Fa 265302   7.3125   NaN        S  \n",
       "10      1              382652  29.1250   NaN        Q  \n",
       "11      0                LINE   0.0000   NaN        S  \n",
       "12      0            PC 17585  79.2000   NaN        C  \n",
       "13      1           C.A. 2673  20.2500   NaN        S  \n",
       "14      0               28403  26.0000   NaN        S  \n",
       "15      0   SOTON/O.Q. 392078   8.0500   E10        S  \n",
       "16      0              239856   0.0000   NaN        S  \n",
       "17      0              250647  13.0000   NaN        S  \n",
       "18      0               11767  83.1583   C54        C  \n",
       "19      0  SOTON/O.Q. 3101306   7.0500   NaN        S  "
      ]
     },
     "execution_count": 15,
     "metadata": {},
     "output_type": "execute_result"
    }
   ],
   "source": [
    "#katmanlı örnekleme\n",
    "#verilerin yüzde dağılımları yaklaşık olarak %65 e %35\n",
    "(df['Sex'].value_counts()) / len(df) * 100\n",
    "#kaç örnek istiyoruz?\n",
    "N = 20\n",
    "\n",
    "#rastgele aldığımız örnekler de %65e %35 \n",
    "df.groupby('Sex', group_keys=False).apply(lambda x: x.sample(int(np.rint(N*len(x)/len(df))))).sample(frac=1).reset_index(drop=True)\n",
    "\n"
   ]
  },
  {
   "cell_type": "markdown",
   "id": "a6c62a7b",
   "metadata": {
    "id": "CahBwOMXRpT9",
    "papermill": {
     "duration": 0.07859,
     "end_time": "2022-02-24T09:08:59.148868",
     "exception": false,
     "start_time": "2022-02-24T09:08:59.070278",
     "status": "completed"
    },
    "tags": []
   },
   "source": [
    "# **Skewnes (çarpıklık) ve Kurtosis (yığılma)** <a id=\"SkewnessveKurtosis\"></a>\n",
    "Bir dağılımın normal olup olmadığını anlamak için Skewness (çarpıklık) ve kurtosis (yığılma) testleri yapılır. Skewness bir dağılımın simetrik olma derecesini ölçer, kurtosis ise dağılımın ortasında çok veya az mı veri var, yani dağılım üstten basık şekilde mi diye kontrol yapar.. Eğer değerler ortalamanın sonuna yığılmışsa pozitif çarpık, sağında birikmişse dağılım negatif çarpıktır.\n",
    "\n",
    "<img src=\"https://www.bookmyessay.com/wp-content/uploads/2018/10/Skewness-and-Kurtosis.png\" />\n",
    "\n",
    "\n"
   ]
  },
  {
   "cell_type": "markdown",
   "id": "a2ba026a",
   "metadata": {
    "id": "PUmkVkcQO5PJ",
    "papermill": {
     "duration": 0.079155,
     "end_time": "2022-02-24T09:08:59.308047",
     "exception": false,
     "start_time": "2022-02-24T09:08:59.228892",
     "status": "completed"
    },
    "tags": []
   },
   "source": [
    "# **Varyans,standart sapma, kovaryans, korelasyon**<a id=\"VSSKK\"></a>\n",
    "\n",
    "\n",
    "---\n",
    "\n",
    "\n",
    "\n",
    "## **Varyans**\n",
    "\n",
    "Olasılık kuramı ve istatistik bilim dallarında varyans bir rassal değişken, bir olasılık dağılımı veya örneklem için istatistiksel yayılımın, mümkün bütün değerlerin beklenen değer veya ortalamadan uzaklıklarının karelerinin ortalaması şeklinde bulunan bir ölçüdür. Ortalama bir dağılımın merkezsel konum noktasını bulmaya çalışırken, varyans değerlerin ne ölçekte veya ne derecede yaygın olduklarını tanımlamayı hedef alır. Varyans için ölçülme birimi orijinal değişkenin biriminin karesidir.[1]\n",
    "- Not: Bu karışık wikipedia tanımları gözünüzü korkutmasın. Python ile uygulamalar yapacağız.\n",
    "\n",
    "<img src=\"https://acemiadam.com/wp-content/uploads/2019/02/Screen-Shot-2019-02-11-at-00.02.32.png\" />\n",
    "\n",
    "\n",
    "\n",
    "---\n",
    "\n",
    "\n",
    "## **Standart Sapma**\n",
    "Standart sapma, bir serideki sayıların o serinin ortalaması etrafındaki dağılımlarını verir. Varyansın kareköküdür. [2]\n",
    "Standart sapma için kullandığımız formül, söz konusu verilerin kendi başına bir popülasyon mu, yoksa daha büyük bir popülasyonu temsil eden bir örneklem mi olduğuna bağlıdır.\n",
    "- Düşünülen veriler kendi başına bir popülasyon sayılıyorsa, veri noktası sayısına (N), böleriz.\n",
    "- Veriler daha büyük bir popülasyondan bir örneklem ise, örneklemdeki veri noktalarının bir eksiğine (n-1), böleriz.\n",
    "\n",
    "- Not: Bu kavramları daha detaylı anlamak için [bu videoyu](https://www.youtube.com/watch?v=cr6tnjvzFGY)  izlemenizi tavsiye ederim.  \n",
    "\n",
    "<img src=\"https://d138zd1ktt9iqe.cloudfront.net/media/seo_landing_files/standard-deviation-formula-1626765976.png\" />\n",
    "\n",
    "---\n",
    "## **Kovaryans**\n",
    "Kovaryans iki değişkenin birlikte ne kadar değiştiklerinin ölçüsüdür. Kovaryans, iki rastgele değişkenin beraber değişimlerini inceleyen bir istatistiktir. (Özel bir hal olarak iki değişken birbirine özdeşlerse kovaryans o tek özdeş değişkenin varyansı olur.)[3]\n",
    "\n",
    "<center><img src=\"https://media.geeksforgeeks.org/wp-content/uploads/Covar.png\" /></center>\n",
    "\n",
    "### Neden varyans, standart sapma gibi değerlere bakarız?\n",
    "İki sınıf düşünelim. İlk sınıfın fizik ders ortalaması 75.2 olsun. Bu sınıfa başarılıdır diyebiliriz değil mi? Peki ikinci sınıfın ortalaması da 81.3 olsun. Asıl soru ikinci sınıf ortalaması yüksek diye birinci sınıftan başarılı diyebilir miyiz? İkinci sınıfta notların 60-70 arasında ağırlıklı dağılsın ve bir kısmı da 90-100 arasında olsun. Birinci sınıfta ise ağırlık olarak 90-100 arası notlar olsun ancak 20-30 arasında notlar da olsun. İşte bu durumda sınıftaki notların dağılımına bakıp, birinde notlar ortalamaya yakın dağılmış standart sapma düşük, varyans düşük, diğerinde ise standart sapma büyük, varyans büyük gibi yorumlar yaparız.\n",
    "\n",
    "\n",
    "## **Korelasyon**\n",
    "Korelasyon, iki rassal değişken arasındaki doğrusal ilişkinin yönünü ve gücünü belirtir. Genel istatistiksel kullanımda korelasyon, bağımsızlık durumundan ne kadar uzaklaşıldığını gösterir. Farklı durumlar için farklı korelasyon katsayıları geliştirilmiştir. Bunlardan en iyi bilineni Pearson çarpım-moment korelasyon katsayısıdır. İki değişkenin kovaryansının, yine bu değişkenlerin standart sapmalarının çarpımına bölünmesiyle elde edilir. [4]\n",
    "<center><img src=\"https://media.geeksforgeeks.org/wp-content/uploads/Correl.png\n",
    "\" /></center>\n",
    "\n",
    "## Varyans ve kovaryans farkı\n",
    "Varyans, verilerin dağılımının bir ölçümüdür ve kovaryans, iki rassal değişkenin birlikte değişim derecesini birlikte gösterir. Diğer bir deyişle, kovaryans, iki rasgele değişken arasındaki korelasyonun kuvvetinin bir ölçüsüdür.\n",
    "\n",
    "## Korelasyon ve kovaryans farkı\n",
    "\n",
    "- Kovaryans, bir değişkendeki bir değişimin başka bir değişkende eşdeğer bir değişiklikle karşılık geldiği bir çift rasgele değişken arasında sistematik bir ilişki olarak tanımlanan istatistiksel bir terimdir. \n",
    "-Korelasyon, iki veya daha fazla rastgele değişkenin birlikte hareket etme derecesini belirleyen istatistiklerde bir ölçü olarak tanımlanır. İki değişkenin araştırılması sırasında, bir değişkendeki hareketin, başka bir değişkenin, bir şekilde veya diğerinin bir başka değişkeni ile eşdeğer bir hareket tarafından karşılık geldiği görülmüşse, değişkenlerin ilişkili olduğu söylenir.\n",
    "- Kovaryans -∞ ila + ∞ arasında herhangi bir değeri alabilir, burada negatif değer negatif bir ilişkinin göstergesidir, buna karşın pozitif bir değer pozitif ilişkiyi temsil eder. Ayrıca, değişkenler arasındaki doğrusal ilişkiyi tespit eder. Bu nedenle, değer sıfır olduğunda, hiçbir ilişki olmadığını gösterir. Buna ek olarak, her iki değişkenin de tüm gözlemleri aynı olduğunda, kovaryans sıfır olacaktır.\n",
    "- Korelasyonun değeri -1 ile +1 arasındadır, burada +1'e yakın değerler güçlü pozitif korelasyonu temsil eder ve -1'e yakın değerler güçlü negatif korelasyonun bir göstergesidir.\n",
    "-Kovaryans, beklenen değerlerden iki rasgele değişken arasındaki varyasyonun beklenen değeri olup, korelasyon neredeyse aynı tanımlamadır, ancak varyasyon içermez.\n",
    "\n",
    "### Benzerlikler \n",
    "- Her ikisi de sadece iki değişken arasındaki doğrusal ilişkiyi ölçer, yani korelasyon katsayısı sıfır olduğunda, kovaryans da sıfırdır. Ayrıca, iki önlem konumdaki değişiklikten etkilenmez.\n",
    "\n",
    "\n",
    "\n",
    "\n",
    "---\n",
    "Kaynak:\n",
    "\n",
    "[1]https://tr.wikipedia.org/wiki/Varyans\n",
    "\n",
    "[2]https://tr.wikipedia.org/wiki/Standart_sapma\n",
    "\n",
    "[3]https://tr.wikipedia.org/wiki/Kovaryans\n",
    "\n",
    "[4]https://tr.wikipedia.org/wiki/Korelasyon\n"
   ]
  },
  {
   "cell_type": "code",
   "execution_count": 16,
   "id": "5744c3f4",
   "metadata": {
    "execution": {
     "iopub.execute_input": "2022-02-24T09:08:59.469702Z",
     "iopub.status.busy": "2022-02-24T09:08:59.469087Z",
     "iopub.status.idle": "2022-02-24T09:08:59.476055Z",
     "shell.execute_reply": "2022-02-24T09:08:59.476500Z",
     "shell.execute_reply.started": "2022-02-23T17:27:06.516811Z"
    },
    "id": "DRA7cijoRTn4",
    "outputId": "e6ffb7b9-2d8b-4d5d-8028-922a2669b12e",
    "papermill": {
     "duration": 0.089427,
     "end_time": "2022-02-24T09:08:59.476668",
     "exception": false,
     "start_time": "2022-02-24T09:08:59.387241",
     "status": "completed"
    },
    "tags": []
   },
   "outputs": [
    {
     "data": {
      "text/plain": [
       "array([-12.04123197,  -7.95546961,  -1.28377395,  -6.57255999,\n",
       "        -2.31697977])"
      ]
     },
     "execution_count": 16,
     "metadata": {},
     "output_type": "execute_result"
    }
   ],
   "source": [
    "# Bu kadar okumadan sonra python ile varyans, standart sapma, kovaryans, korelasyon hesaplamanın ne kadar kolay olduğuna bakalım\n",
    "\n",
    "#Normal dağılıma uyan bir veri oluşturalım\n",
    "data = np.random.normal(-5, 5,size=(1000))\n",
    "\n",
    "#Yine normal dağılıma uyan ancak daha geniş aralığa yayılmış bir veri oluşturalım\n",
    "data2 = np.random.normal(-50, 50,size=(1000))\n",
    "data[:5]"
   ]
  },
  {
   "cell_type": "code",
   "execution_count": 17,
   "id": "07b5a211",
   "metadata": {
    "execution": {
     "iopub.execute_input": "2022-02-24T09:08:59.658355Z",
     "iopub.status.busy": "2022-02-24T09:08:59.657626Z",
     "iopub.status.idle": "2022-02-24T09:09:00.022824Z",
     "shell.execute_reply": "2022-02-24T09:09:00.022303Z",
     "shell.execute_reply.started": "2022-02-23T17:27:06.526969Z"
    },
    "id": "49BDeyJHCfhK",
    "outputId": "b827cc3e-6255-4d56-e5e4-718aad70c29e",
    "papermill": {
     "duration": 0.467153,
     "end_time": "2022-02-24T09:09:00.022980",
     "exception": false,
     "start_time": "2022-02-24T09:08:59.555827",
     "status": "completed"
    },
    "tags": []
   },
   "outputs": [
    {
     "data": {
      "text/plain": [
       "<matplotlib.legend.Legend at 0x7fdc566ead10>"
      ]
     },
     "execution_count": 17,
     "metadata": {},
     "output_type": "execute_result"
    },
    {
     "data": {
      "image/png": "[encoded data removed]",
      "text/plain": [
       "<Figure size 1080x360 with 1 Axes>"
      ]
     },
     "metadata": {
      "needs_background": "light"
     },
     "output_type": "display_data"
    }
   ],
   "source": [
    "#Bu verilerin dağılımına bakalım\n",
    "fig = plt.figure(figsize=(15,5))\n",
    "sns.distplot(data)\n",
    "sns.distplot(data2)\n",
    "fig.legend(labels=['data','data2'])"
   ]
  },
  {
   "cell_type": "code",
   "execution_count": 18,
   "id": "5c010786",
   "metadata": {
    "execution": {
     "iopub.execute_input": "2022-02-24T09:09:00.188709Z",
     "iopub.status.busy": "2022-02-24T09:09:00.188066Z",
     "iopub.status.idle": "2022-02-24T09:09:00.195010Z",
     "shell.execute_reply": "2022-02-24T09:09:00.194519Z",
     "shell.execute_reply.started": "2022-02-23T17:27:06.90433Z"
    },
    "id": "nuANTLeRovBq",
    "outputId": "856b70a1-24c7-437d-86ba-641d2fb42648",
    "papermill": {
     "duration": 0.090804,
     "end_time": "2022-02-24T09:09:00.195163",
     "exception": false,
     "start_time": "2022-02-24T09:09:00.104359",
     "status": "completed"
    },
    "tags": []
   },
   "outputs": [
    {
     "name": "stdout",
     "output_type": "stream",
     "text": [
      "Standart sapma: 5.133465766115667\n",
      "Standart sapma2: 49.05789242591486\n"
     ]
    }
   ],
   "source": [
    "#görüldüğü üzere eğer veriler daha geniş aralığa yayılmışsa standart sapması daha yüksek çıkıyor.\n",
    "#Verilerin standart sapması\n",
    "std = np.std(data)\n",
    "print('Standart sapma:', std)\n",
    "\n",
    "std2 = np.std(data2)\n",
    "print('Standart sapma2:', std2)"
   ]
  },
  {
   "cell_type": "code",
   "execution_count": 19,
   "id": "a1eb9740",
   "metadata": {
    "execution": {
     "iopub.execute_input": "2022-02-24T09:09:00.363900Z",
     "iopub.status.busy": "2022-02-24T09:09:00.363261Z",
     "iopub.status.idle": "2022-02-24T09:09:00.381136Z",
     "shell.execute_reply": "2022-02-24T09:09:00.381594Z",
     "shell.execute_reply.started": "2022-02-23T17:27:06.912982Z"
    },
    "id": "_dq-5u1MtH-f",
    "outputId": "e9025d12-c034-41be-f01c-10b932da3381",
    "papermill": {
     "duration": 0.103982,
     "end_time": "2022-02-24T09:09:00.381781",
     "exception": false,
     "start_time": "2022-02-24T09:09:00.277799",
     "status": "completed"
    },
    "tags": []
   },
   "outputs": [
    {
     "data": {
      "text/html": [
       "<div>\n",
       "<style scoped>\n",
       "    .dataframe tbody tr th:only-of-type {\n",
       "        vertical-align: middle;\n",
       "    }\n",
       "\n",
       "    .dataframe tbody tr th {\n",
       "        vertical-align: top;\n",
       "    }\n",
       "\n",
       "    .dataframe thead th {\n",
       "        text-align: right;\n",
       "    }\n",
       "</style>\n",
       "<table border=\"1\" class=\"dataframe\">\n",
       "  <thead>\n",
       "    <tr style=\"text-align: right;\">\n",
       "      <th></th>\n",
       "      <th>PassengerId</th>\n",
       "      <th>Survived</th>\n",
       "      <th>Pclass</th>\n",
       "      <th>Name</th>\n",
       "      <th>Sex</th>\n",
       "      <th>Age</th>\n",
       "      <th>SibSp</th>\n",
       "      <th>Parch</th>\n",
       "      <th>Ticket</th>\n",
       "      <th>Fare</th>\n",
       "      <th>Cabin</th>\n",
       "      <th>Embarked</th>\n",
       "    </tr>\n",
       "  </thead>\n",
       "  <tbody>\n",
       "    <tr>\n",
       "      <th>0</th>\n",
       "      <td>1</td>\n",
       "      <td>0</td>\n",
       "      <td>3</td>\n",
       "      <td>Braund, Mr. Owen Harris</td>\n",
       "      <td>male</td>\n",
       "      <td>22.0</td>\n",
       "      <td>1</td>\n",
       "      <td>0</td>\n",
       "      <td>A/5 21171</td>\n",
       "      <td>7.25</td>\n",
       "      <td>NaN</td>\n",
       "      <td>S</td>\n",
       "    </tr>\n",
       "  </tbody>\n",
       "</table>\n",
       "</div>"
      ],
      "text/plain": [
       "   PassengerId  Survived  Pclass                     Name   Sex   Age  SibSp  \\\n",
       "0            1         0       3  Braund, Mr. Owen Harris  male  22.0      1   \n",
       "\n",
       "   Parch     Ticket  Fare Cabin Embarked  \n",
       "0      0  A/5 21171  7.25   NaN        S  "
      ]
     },
     "execution_count": 19,
     "metadata": {},
     "output_type": "execute_result"
    }
   ],
   "source": [
    "#titanic veri setini yükleyelim\n",
    "titanic = pd.read_csv('../input/titanic-dataset/Titanic-Dataset.csv')\n",
    "titanic.head(1)"
   ]
  },
  {
   "cell_type": "code",
   "execution_count": 20,
   "id": "e4b5f5f8",
   "metadata": {
    "execution": {
     "iopub.execute_input": "2022-02-24T09:09:00.552942Z",
     "iopub.status.busy": "2022-02-24T09:09:00.552281Z",
     "iopub.status.idle": "2022-02-24T09:09:00.566892Z",
     "shell.execute_reply": "2022-02-24T09:09:00.566359Z",
     "shell.execute_reply.started": "2022-02-23T17:27:06.937784Z"
    },
    "id": "NLmb0CQ-vCbG",
    "outputId": "aa7b7e49-53db-494e-8c97-f0c533f13def",
    "papermill": {
     "duration": 0.103048,
     "end_time": "2022-02-24T09:09:00.567034",
     "exception": false,
     "start_time": "2022-02-24T09:09:00.463986",
     "status": "completed"
    },
    "tags": []
   },
   "outputs": [
    {
     "data": {
      "text/html": [
       "<div>\n",
       "<style scoped>\n",
       "    .dataframe tbody tr th:only-of-type {\n",
       "        vertical-align: middle;\n",
       "    }\n",
       "\n",
       "    .dataframe tbody tr th {\n",
       "        vertical-align: top;\n",
       "    }\n",
       "\n",
       "    .dataframe thead th {\n",
       "        text-align: right;\n",
       "    }\n",
       "</style>\n",
       "<table border=\"1\" class=\"dataframe\">\n",
       "  <thead>\n",
       "    <tr style=\"text-align: right;\">\n",
       "      <th></th>\n",
       "      <th>PassengerId</th>\n",
       "      <th>Survived</th>\n",
       "      <th>Pclass</th>\n",
       "      <th>Age</th>\n",
       "      <th>SibSp</th>\n",
       "      <th>Parch</th>\n",
       "      <th>Fare</th>\n",
       "    </tr>\n",
       "  </thead>\n",
       "  <tbody>\n",
       "    <tr>\n",
       "      <th>PassengerId</th>\n",
       "      <td>1.000000</td>\n",
       "      <td>-0.005007</td>\n",
       "      <td>-0.035144</td>\n",
       "      <td>0.036847</td>\n",
       "      <td>-0.057527</td>\n",
       "      <td>-0.001652</td>\n",
       "      <td>0.012658</td>\n",
       "    </tr>\n",
       "    <tr>\n",
       "      <th>Survived</th>\n",
       "      <td>-0.005007</td>\n",
       "      <td>1.000000</td>\n",
       "      <td>-0.338481</td>\n",
       "      <td>-0.077221</td>\n",
       "      <td>-0.035322</td>\n",
       "      <td>0.081629</td>\n",
       "      <td>0.257307</td>\n",
       "    </tr>\n",
       "    <tr>\n",
       "      <th>Pclass</th>\n",
       "      <td>-0.035144</td>\n",
       "      <td>-0.338481</td>\n",
       "      <td>1.000000</td>\n",
       "      <td>-0.369226</td>\n",
       "      <td>0.083081</td>\n",
       "      <td>0.018443</td>\n",
       "      <td>-0.549500</td>\n",
       "    </tr>\n",
       "    <tr>\n",
       "      <th>Age</th>\n",
       "      <td>0.036847</td>\n",
       "      <td>-0.077221</td>\n",
       "      <td>-0.369226</td>\n",
       "      <td>1.000000</td>\n",
       "      <td>-0.308247</td>\n",
       "      <td>-0.189119</td>\n",
       "      <td>0.096067</td>\n",
       "    </tr>\n",
       "    <tr>\n",
       "      <th>SibSp</th>\n",
       "      <td>-0.057527</td>\n",
       "      <td>-0.035322</td>\n",
       "      <td>0.083081</td>\n",
       "      <td>-0.308247</td>\n",
       "      <td>1.000000</td>\n",
       "      <td>0.414838</td>\n",
       "      <td>0.159651</td>\n",
       "    </tr>\n",
       "    <tr>\n",
       "      <th>Parch</th>\n",
       "      <td>-0.001652</td>\n",
       "      <td>0.081629</td>\n",
       "      <td>0.018443</td>\n",
       "      <td>-0.189119</td>\n",
       "      <td>0.414838</td>\n",
       "      <td>1.000000</td>\n",
       "      <td>0.216225</td>\n",
       "    </tr>\n",
       "    <tr>\n",
       "      <th>Fare</th>\n",
       "      <td>0.012658</td>\n",
       "      <td>0.257307</td>\n",
       "      <td>-0.549500</td>\n",
       "      <td>0.096067</td>\n",
       "      <td>0.159651</td>\n",
       "      <td>0.216225</td>\n",
       "      <td>1.000000</td>\n",
       "    </tr>\n",
       "  </tbody>\n",
       "</table>\n",
       "</div>"
      ],
      "text/plain": [
       "             PassengerId  Survived    Pclass       Age     SibSp     Parch  \\\n",
       "PassengerId     1.000000 -0.005007 -0.035144  0.036847 -0.057527 -0.001652   \n",
       "Survived       -0.005007  1.000000 -0.338481 -0.077221 -0.035322  0.081629   \n",
       "Pclass         -0.035144 -0.338481  1.000000 -0.369226  0.083081  0.018443   \n",
       "Age             0.036847 -0.077221 -0.369226  1.000000 -0.308247 -0.189119   \n",
       "SibSp          -0.057527 -0.035322  0.083081 -0.308247  1.000000  0.414838   \n",
       "Parch          -0.001652  0.081629  0.018443 -0.189119  0.414838  1.000000   \n",
       "Fare            0.012658  0.257307 -0.549500  0.096067  0.159651  0.216225   \n",
       "\n",
       "                 Fare  \n",
       "PassengerId  0.012658  \n",
       "Survived     0.257307  \n",
       "Pclass      -0.549500  \n",
       "Age          0.096067  \n",
       "SibSp        0.159651  \n",
       "Parch        0.216225  \n",
       "Fare         1.000000  "
      ]
     },
     "execution_count": 20,
     "metadata": {},
     "output_type": "execute_result"
    }
   ],
   "source": [
    "#verimizde korelasyon matrisine bakalım\n",
    "titanic.corr()\n",
    "\n",
    "#örneğin pclass ve fare arasında negatif ama yüksek bir korelasyon var\n",
    "#parch ile survived arasında düşük bir korelasyon var diyebiliriz\n"
   ]
  },
  {
   "cell_type": "markdown",
   "id": "6049abec",
   "metadata": {
    "id": "GVdhi1cY1t6f",
    "papermill": {
     "duration": 0.083271,
     "end_time": "2022-02-24T09:09:00.733705",
     "exception": false,
     "start_time": "2022-02-24T09:09:00.650434",
     "status": "completed"
    },
    "tags": []
   },
   "source": [
    "Yukarıda bahsetmemiştim ancak korelasyon katsayısını hesaplamak için iki farklı formül kullanabiliriz.\n",
    "\n",
    "**1.   Pearson Korelasyon katsayısı:**\n",
    "- İki nicel değişken de sürekli ise\n",
    "\n",
    "<center><img src=\"http://sherrytowers.com/wp-content/uploads/2013/09/correlation_xy-300x97.jpg\n",
    "\" /></center>\n",
    "\n",
    "**2.   Spearman'ın sıralama korelasyon katsayısı:**\n",
    "- Verilerden biri veya ikisi süreksiz ise\n",
    "\n",
    "<center><img src=\"http://s3.amazonaws.com/hm_120408/fa/3d86/yhf5/9dwq/4m6e2kcav/original.jpg?1447778688\n",
    "\" /></center>\n",
    "\n",
    "\n",
    "\n"
   ]
  },
  {
   "cell_type": "code",
   "execution_count": 21,
   "id": "15624310",
   "metadata": {
    "execution": {
     "iopub.execute_input": "2022-02-24T09:09:00.904680Z",
     "iopub.status.busy": "2022-02-24T09:09:00.903988Z",
     "iopub.status.idle": "2022-02-24T09:09:00.919120Z",
     "shell.execute_reply": "2022-02-24T09:09:00.918320Z",
     "shell.execute_reply.started": "2022-02-23T17:27:06.951799Z"
    },
    "id": "d6fmZDZ_vfhF",
    "outputId": "c6965d21-c4e9-45ed-9123-3a6f4fdb9756",
    "papermill": {
     "duration": 0.102664,
     "end_time": "2022-02-24T09:09:00.919283",
     "exception": false,
     "start_time": "2022-02-24T09:09:00.816619",
     "status": "completed"
    },
    "tags": []
   },
   "outputs": [
    {
     "data": {
      "text/html": [
       "<div>\n",
       "<style scoped>\n",
       "    .dataframe tbody tr th:only-of-type {\n",
       "        vertical-align: middle;\n",
       "    }\n",
       "\n",
       "    .dataframe tbody tr th {\n",
       "        vertical-align: top;\n",
       "    }\n",
       "\n",
       "    .dataframe thead th {\n",
       "        text-align: right;\n",
       "    }\n",
       "</style>\n",
       "<table border=\"1\" class=\"dataframe\">\n",
       "  <thead>\n",
       "    <tr style=\"text-align: right;\">\n",
       "      <th></th>\n",
       "      <th>PassengerId</th>\n",
       "      <th>Survived</th>\n",
       "      <th>Pclass</th>\n",
       "      <th>Age</th>\n",
       "      <th>SibSp</th>\n",
       "      <th>Parch</th>\n",
       "      <th>Fare</th>\n",
       "    </tr>\n",
       "  </thead>\n",
       "  <tbody>\n",
       "    <tr>\n",
       "      <th>PassengerId</th>\n",
       "      <td>1.000000</td>\n",
       "      <td>-0.005007</td>\n",
       "      <td>-0.035144</td>\n",
       "      <td>0.036847</td>\n",
       "      <td>-0.057527</td>\n",
       "      <td>-0.001652</td>\n",
       "      <td>0.012658</td>\n",
       "    </tr>\n",
       "    <tr>\n",
       "      <th>Survived</th>\n",
       "      <td>-0.005007</td>\n",
       "      <td>1.000000</td>\n",
       "      <td>-0.338481</td>\n",
       "      <td>-0.077221</td>\n",
       "      <td>-0.035322</td>\n",
       "      <td>0.081629</td>\n",
       "      <td>0.257307</td>\n",
       "    </tr>\n",
       "    <tr>\n",
       "      <th>Pclass</th>\n",
       "      <td>-0.035144</td>\n",
       "      <td>-0.338481</td>\n",
       "      <td>1.000000</td>\n",
       "      <td>-0.369226</td>\n",
       "      <td>0.083081</td>\n",
       "      <td>0.018443</td>\n",
       "      <td>-0.549500</td>\n",
       "    </tr>\n",
       "    <tr>\n",
       "      <th>Age</th>\n",
       "      <td>0.036847</td>\n",
       "      <td>-0.077221</td>\n",
       "      <td>-0.369226</td>\n",
       "      <td>1.000000</td>\n",
       "      <td>-0.308247</td>\n",
       "      <td>-0.189119</td>\n",
       "      <td>0.096067</td>\n",
       "    </tr>\n",
       "    <tr>\n",
       "      <th>SibSp</th>\n",
       "      <td>-0.057527</td>\n",
       "      <td>-0.035322</td>\n",
       "      <td>0.083081</td>\n",
       "      <td>-0.308247</td>\n",
       "      <td>1.000000</td>\n",
       "      <td>0.414838</td>\n",
       "      <td>0.159651</td>\n",
       "    </tr>\n",
       "    <tr>\n",
       "      <th>Parch</th>\n",
       "      <td>-0.001652</td>\n",
       "      <td>0.081629</td>\n",
       "      <td>0.018443</td>\n",
       "      <td>-0.189119</td>\n",
       "      <td>0.414838</td>\n",
       "      <td>1.000000</td>\n",
       "      <td>0.216225</td>\n",
       "    </tr>\n",
       "    <tr>\n",
       "      <th>Fare</th>\n",
       "      <td>0.012658</td>\n",
       "      <td>0.257307</td>\n",
       "      <td>-0.549500</td>\n",
       "      <td>0.096067</td>\n",
       "      <td>0.159651</td>\n",
       "      <td>0.216225</td>\n",
       "      <td>1.000000</td>\n",
       "    </tr>\n",
       "  </tbody>\n",
       "</table>\n",
       "</div>"
      ],
      "text/plain": [
       "             PassengerId  Survived    Pclass       Age     SibSp     Parch  \\\n",
       "PassengerId     1.000000 -0.005007 -0.035144  0.036847 -0.057527 -0.001652   \n",
       "Survived       -0.005007  1.000000 -0.338481 -0.077221 -0.035322  0.081629   \n",
       "Pclass         -0.035144 -0.338481  1.000000 -0.369226  0.083081  0.018443   \n",
       "Age             0.036847 -0.077221 -0.369226  1.000000 -0.308247 -0.189119   \n",
       "SibSp          -0.057527 -0.035322  0.083081 -0.308247  1.000000  0.414838   \n",
       "Parch          -0.001652  0.081629  0.018443 -0.189119  0.414838  1.000000   \n",
       "Fare            0.012658  0.257307 -0.549500  0.096067  0.159651  0.216225   \n",
       "\n",
       "                 Fare  \n",
       "PassengerId  0.012658  \n",
       "Survived     0.257307  \n",
       "Pclass      -0.549500  \n",
       "Age          0.096067  \n",
       "SibSp        0.159651  \n",
       "Parch        0.216225  \n",
       "Fare         1.000000  "
      ]
     },
     "execution_count": 21,
     "metadata": {},
     "output_type": "execute_result"
    }
   ],
   "source": [
    "titanic.corr(method='pearson')"
   ]
  },
  {
   "cell_type": "code",
   "execution_count": 22,
   "id": "8e7cd0fb",
   "metadata": {
    "execution": {
     "iopub.execute_input": "2022-02-24T09:09:01.122929Z",
     "iopub.status.busy": "2022-02-24T09:09:01.119486Z",
     "iopub.status.idle": "2022-02-24T09:09:01.137037Z",
     "shell.execute_reply": "2022-02-24T09:09:01.137535Z",
     "shell.execute_reply.started": "2022-02-23T17:27:06.967493Z"
    },
    "id": "VFpPMTgV3HBB",
    "outputId": "fbf18c19-dd66-41ac-87c3-2fea5f041364",
    "papermill": {
     "duration": 0.109848,
     "end_time": "2022-02-24T09:09:01.137696",
     "exception": false,
     "start_time": "2022-02-24T09:09:01.027848",
     "status": "completed"
    },
    "tags": []
   },
   "outputs": [
    {
     "data": {
      "text/html": [
       "<div>\n",
       "<style scoped>\n",
       "    .dataframe tbody tr th:only-of-type {\n",
       "        vertical-align: middle;\n",
       "    }\n",
       "\n",
       "    .dataframe tbody tr th {\n",
       "        vertical-align: top;\n",
       "    }\n",
       "\n",
       "    .dataframe thead th {\n",
       "        text-align: right;\n",
       "    }\n",
       "</style>\n",
       "<table border=\"1\" class=\"dataframe\">\n",
       "  <thead>\n",
       "    <tr style=\"text-align: right;\">\n",
       "      <th></th>\n",
       "      <th>PassengerId</th>\n",
       "      <th>Survived</th>\n",
       "      <th>Pclass</th>\n",
       "      <th>Age</th>\n",
       "      <th>SibSp</th>\n",
       "      <th>Parch</th>\n",
       "      <th>Fare</th>\n",
       "    </tr>\n",
       "  </thead>\n",
       "  <tbody>\n",
       "    <tr>\n",
       "      <th>PassengerId</th>\n",
       "      <td>1.000000</td>\n",
       "      <td>-0.005007</td>\n",
       "      <td>-0.034091</td>\n",
       "      <td>0.041010</td>\n",
       "      <td>-0.061161</td>\n",
       "      <td>0.001235</td>\n",
       "      <td>-0.013975</td>\n",
       "    </tr>\n",
       "    <tr>\n",
       "      <th>Survived</th>\n",
       "      <td>-0.005007</td>\n",
       "      <td>1.000000</td>\n",
       "      <td>-0.339668</td>\n",
       "      <td>-0.052565</td>\n",
       "      <td>0.088879</td>\n",
       "      <td>0.138266</td>\n",
       "      <td>0.323736</td>\n",
       "    </tr>\n",
       "    <tr>\n",
       "      <th>Pclass</th>\n",
       "      <td>-0.034091</td>\n",
       "      <td>-0.339668</td>\n",
       "      <td>1.000000</td>\n",
       "      <td>-0.361666</td>\n",
       "      <td>-0.043019</td>\n",
       "      <td>-0.022801</td>\n",
       "      <td>-0.688032</td>\n",
       "    </tr>\n",
       "    <tr>\n",
       "      <th>Age</th>\n",
       "      <td>0.041010</td>\n",
       "      <td>-0.052565</td>\n",
       "      <td>-0.361666</td>\n",
       "      <td>1.000000</td>\n",
       "      <td>-0.182061</td>\n",
       "      <td>-0.254212</td>\n",
       "      <td>0.135051</td>\n",
       "    </tr>\n",
       "    <tr>\n",
       "      <th>SibSp</th>\n",
       "      <td>-0.061161</td>\n",
       "      <td>0.088879</td>\n",
       "      <td>-0.043019</td>\n",
       "      <td>-0.182061</td>\n",
       "      <td>1.000000</td>\n",
       "      <td>0.450014</td>\n",
       "      <td>0.447113</td>\n",
       "    </tr>\n",
       "    <tr>\n",
       "      <th>Parch</th>\n",
       "      <td>0.001235</td>\n",
       "      <td>0.138266</td>\n",
       "      <td>-0.022801</td>\n",
       "      <td>-0.254212</td>\n",
       "      <td>0.450014</td>\n",
       "      <td>1.000000</td>\n",
       "      <td>0.410074</td>\n",
       "    </tr>\n",
       "    <tr>\n",
       "      <th>Fare</th>\n",
       "      <td>-0.013975</td>\n",
       "      <td>0.323736</td>\n",
       "      <td>-0.688032</td>\n",
       "      <td>0.135051</td>\n",
       "      <td>0.447113</td>\n",
       "      <td>0.410074</td>\n",
       "      <td>1.000000</td>\n",
       "    </tr>\n",
       "  </tbody>\n",
       "</table>\n",
       "</div>"
      ],
      "text/plain": [
       "             PassengerId  Survived    Pclass       Age     SibSp     Parch  \\\n",
       "PassengerId     1.000000 -0.005007 -0.034091  0.041010 -0.061161  0.001235   \n",
       "Survived       -0.005007  1.000000 -0.339668 -0.052565  0.088879  0.138266   \n",
       "Pclass         -0.034091 -0.339668  1.000000 -0.361666 -0.043019 -0.022801   \n",
       "Age             0.041010 -0.052565 -0.361666  1.000000 -0.182061 -0.254212   \n",
       "SibSp          -0.061161  0.088879 -0.043019 -0.182061  1.000000  0.450014   \n",
       "Parch           0.001235  0.138266 -0.022801 -0.254212  0.450014  1.000000   \n",
       "Fare           -0.013975  0.323736 -0.688032  0.135051  0.447113  0.410074   \n",
       "\n",
       "                 Fare  \n",
       "PassengerId -0.013975  \n",
       "Survived     0.323736  \n",
       "Pclass      -0.688032  \n",
       "Age          0.135051  \n",
       "SibSp        0.447113  \n",
       "Parch        0.410074  \n",
       "Fare         1.000000  "
      ]
     },
     "execution_count": 22,
     "metadata": {},
     "output_type": "execute_result"
    }
   ],
   "source": [
    "titanic.corr(method='spearman')"
   ]
  },
  {
   "cell_type": "code",
   "execution_count": 23,
   "id": "472b344c",
   "metadata": {
    "execution": {
     "iopub.execute_input": "2022-02-24T09:09:01.310649Z",
     "iopub.status.busy": "2022-02-24T09:09:01.309786Z",
     "iopub.status.idle": "2022-02-24T09:09:01.900074Z",
     "shell.execute_reply": "2022-02-24T09:09:01.899549Z",
     "shell.execute_reply.started": "2022-02-23T17:27:06.990791Z"
    },
    "id": "qn414bLn3KlY",
    "outputId": "aafe14e5-745e-4c41-b32a-fa13d95ecfaf",
    "papermill": {
     "duration": 0.678496,
     "end_time": "2022-02-24T09:09:01.900336",
     "exception": false,
     "start_time": "2022-02-24T09:09:01.221840",
     "status": "completed"
    },
    "tags": []
   },
   "outputs": [
    {
     "data": {
      "text/plain": [
       "Text(0.5, 1.0, 'Titanic veri seti korelasyon matrisi')"
      ]
     },
     "execution_count": 23,
     "metadata": {},
     "output_type": "execute_result"
    },
    {
     "data": {
      "image/png": "[encoded data removed]",
      "text/plain": [
       "<Figure size 1152x432 with 2 Axes>"
      ]
     },
     "metadata": {},
     "output_type": "display_data"
    }
   ],
   "source": [
    "#Korelasyondan bahsediyorsak çok güzel bir görselleştirme olan heatmap den bahsetmemek olmaz. \n",
    "#Gelin korelasyonu görsel şekilde nasıl daha iyi gösterebileceğimize bakalım.\n",
    "\n",
    "sns.set_theme(style=\"white\")\n",
    "\n",
    "\n",
    "plt.figure(figsize=(16, 6))\n",
    "cmap = sns.diverging_palette(230, 20, as_cmap=True)\n",
    "\n",
    "\n",
    "sns.heatmap(titanic.corr(),  cmap=cmap, vmax=.3, center=0,\n",
    "            square=True, linewidths=.5, cbar_kws={\"shrink\": .5}, \n",
    "            annot=True).set_title('Titanic veri seti korelasyon matrisi', \n",
    "                                  fontdict={'fontsize':12}, pad=12)\n"
   ]
  },
  {
   "cell_type": "markdown",
   "id": "0a2e1020",
   "metadata": {
    "id": "cGWNc4PzjZdf",
    "papermill": {
     "duration": 0.086264,
     "end_time": "2022-02-24T09:09:02.073748",
     "exception": false,
     "start_time": "2022-02-24T09:09:01.987484",
     "status": "completed"
    },
    "tags": []
   },
   "source": [
    "# **Aritmetik Ortalama, mod, medyan**<a id=\"AOMM\"></a>\n",
    "---\n",
    "## **Aritmetik Ortalama**\n",
    "Aritmetik ortalama, bir sayı serisindeki sayıların toplamının serinin eleman sayısına bölünmesi sonucu elde edilen değerdir.\n",
    "\n",
    "## **Mod**\n",
    "Mod, bir sayısal veri serisi içinde en çok tekrar eden sayıdır. Bu sayının tekrar adedine de frekans denir. Örneğin: (2,3,3,4,3,6,7) serisinde mod 3'tür.\n",
    "\n",
    "## **Medyan**\n",
    "Medyan, bir sayısal veri serisi sıralandığında ortada kalan sayıdır. Yukarıdaki örnekteki seriyi sıralarsak ->> (2,3,3,3,4,6,7) bu serinin ortasındaki değer 3'tür. Yani modu da medyanı da 3'tür.\n",
    "\n",
    "- Not:Mod, medyan, aritmetik ortalama ve yukarıda da gördüğümüz standart sapma gibi hesaplamaların tamamına **Merkezi Eğilim Ölçüleri** denir. Bunların hepsinde elde edilen sonuçların verilerin merkezine olan uzaklığı dikkate alınır. Bu şekilde serideki her bir veri veya serinin tamamı hakkında bazı kararlar verilir. Merkezi eğilim ölçülerine ortalamalar da denilebilir.Her yöntem farklı bir şekilde ortalama alır.\n",
    "\n",
    "Şimdi python ile bu değerleri nasıl hesaplayacağımıza bakalım."
   ]
  },
  {
   "cell_type": "code",
   "execution_count": 24,
   "id": "9a12c757",
   "metadata": {
    "execution": {
     "iopub.execute_input": "2022-02-24T09:09:02.255680Z",
     "iopub.status.busy": "2022-02-24T09:09:02.254821Z",
     "iopub.status.idle": "2022-02-24T09:09:02.257948Z",
     "shell.execute_reply": "2022-02-24T09:09:02.258472Z",
     "shell.execute_reply.started": "2022-02-23T17:27:07.595002Z"
    },
    "id": "fsuG5Alo3fuI",
    "outputId": "5012b300-bdb0-43bb-cb89-0c15e370ff90",
    "papermill": {
     "duration": 0.098677,
     "end_time": "2022-02-24T09:09:02.258643",
     "exception": false,
     "start_time": "2022-02-24T09:09:02.159966",
     "status": "completed"
    },
    "tags": []
   },
   "outputs": [
    {
     "name": "stdout",
     "output_type": "stream",
     "text": [
      "Verinin ortalaması: 24.71\n",
      "Verinin modu: 34\n",
      "Verinin medyanı: 26.0\n",
      "Verinin standart sapması 14.312508515281309\n"
     ]
    }
   ],
   "source": [
    "data = np.random.randint(0, 50, 1000)\n",
    "\n",
    "mean = np.mean(data)\n",
    "mode = statistics.mode(list(data))\n",
    "median = np.median(data)\n",
    "std = np.std(data)\n",
    "\n",
    "print('Verinin ortalaması:', mean)\n",
    "print('Verinin modu:', mode)\n",
    "print('Verinin medyanı:', median)\n",
    "print('Verinin standart sapması', std)"
   ]
  },
  {
   "cell_type": "markdown",
   "id": "ad28cbe8",
   "metadata": {
    "id": "b7zuTv6BpA9M",
    "papermill": {
     "duration": 0.086004,
     "end_time": "2022-02-24T09:09:02.431316",
     "exception": false,
     "start_time": "2022-02-24T09:09:02.345312",
     "status": "completed"
    },
    "tags": []
   },
   "source": [
    "# **Aykırı değerler (outlier)**<a id=\"AykırıDeğerler\"></a>\n",
    "Verilerimizin genel yapısına göre aşırı ölçüde yüksek veya düşük gözlemler aykırı değer olarak tanımlanabilir. Verideki aykırı değerleri tespit etmezsek, kullandığımız makine öğrenmesi modelini yanıltabilir ve kötü sonuçlar almamızı sağlayabilir. Aşağıdaki resimde de görüldüğü üzere aykırı değerler veri setinde kurtulmamız gereken değerlerdir.\n",
    "\n",
    "<center><img src=\"https://qph.fs.quoracdn.net/main-qimg-bff745edc3d16c4618d2e72d0ceb2efa\n",
    "\" /></center>\n",
    "Her aykırı değerin mutlaka hata olmadığınının altını bir kez daha çizmek gerekir. Bazı durumlarda, aykırı gözlemler, veri setindeki yüksek varyansın (değişkenliğin) habercisidir.\n",
    "\n"
   ]
  },
  {
   "cell_type": "markdown",
   "id": "1a357596",
   "metadata": {
    "id": "Pqoy6l6BDS20",
    "papermill": {
     "duration": 0.086846,
     "end_time": "2022-02-24T09:09:02.604503",
     "exception": false,
     "start_time": "2022-02-24T09:09:02.517657",
     "status": "completed"
    },
    "tags": []
   },
   "source": [
    "## **Aykırı değer tespiti**<a id=\"AykırıDeğerTespiti\"></a>\n",
    "\n",
    "\n",
    "\n"
   ]
  },
  {
   "cell_type": "markdown",
   "id": "885b9e6e",
   "metadata": {
    "id": "4ZTKzf6Zjvzv",
    "papermill": {
     "duration": 0.088058,
     "end_time": "2022-02-24T09:09:02.779233",
     "exception": false,
     "start_time": "2022-02-24T09:09:02.691175",
     "status": "completed"
    },
    "tags": []
   },
   "source": [
    "### **Kutu grafiği**<a id=\"KutuGrafiği\"></a>\n",
    "\n",
    "Kutu grafiği (Box plot), verinin dağılımını çeyrek değerler üzerinden görselleştiren bir grafik türüdür. Kutuya benzediği için bu isimdedir.\n",
    "<center><img src=\"https://help.ezbiocloud.net/wp-content/uploads/2020/04/%E1%84%89%E1%85%B3%E1%84%8F%E1%85%B3%E1%84%85%E1%85%B5%E1%86%AB%E1%84%89%E1%85%A3%E1%86%BA-2020-04-19-%E1%84%8B%E1%85%A9%E1%84%8C%E1%85%A5%E1%86%AB-9.41.35.png\n",
    "\" /></center>\n",
    "\n",
    "- Kutunun sağ ve sol ucu 1. ve 3. çeyreği (Q1,Q3) gösterir.\n",
    "- Kutunun açıklığı çeyrek açıklığını (IQR) gösterir.\n",
    "- Kutunun üstündeki çizgi medyan değerini verir.\n",
    "- Minimum ve maksimum değerlerin gözüktüğü kancaların dışında olan değerler ise aykısı değerleri gösterir.\n",
    "\n",
    "Not: Kutu grafiği verinize hızlı bir gözlem yapmak için uygun bir yöntemdir. Birden fazla değişkeni aynı anda kıyaslama imkanı sağlar. Ancak derinlemesine bir analiz yapmak için yeterli değildir."
   ]
  },
  {
   "cell_type": "code",
   "execution_count": 25,
   "id": "3bd17018",
   "metadata": {
    "execution": {
     "iopub.execute_input": "2022-02-24T09:09:02.956996Z",
     "iopub.status.busy": "2022-02-24T09:09:02.956030Z",
     "iopub.status.idle": "2022-02-24T09:09:02.982490Z",
     "shell.execute_reply": "2022-02-24T09:09:02.982984Z",
     "shell.execute_reply.started": "2022-02-23T17:27:07.606549Z"
    },
    "id": "FFJ4V-dwD3-6",
    "outputId": "7d4dee38-8204-452e-8afd-9dd93f2f6ee0",
    "papermill": {
     "duration": 0.11696,
     "end_time": "2022-02-24T09:09:02.983169",
     "exception": false,
     "start_time": "2022-02-24T09:09:02.866209",
     "status": "completed"
    },
    "tags": []
   },
   "outputs": [
    {
     "name": "stdout",
     "output_type": "stream",
     "text": [
      "<class 'pandas.core.frame.DataFrame'>\n",
      "RangeIndex: 550 entries, 0 to 549\n",
      "Data columns (total 7 columns):\n",
      " #   Column       Non-Null Count  Dtype  \n",
      "---  ------       --------------  -----  \n",
      " 0   Name         550 non-null    object \n",
      " 1   Author       550 non-null    object \n",
      " 2   User Rating  550 non-null    float64\n",
      " 3   Reviews      550 non-null    int64  \n",
      " 4   Price        550 non-null    int64  \n",
      " 5   Year         550 non-null    int64  \n",
      " 6   Genre        550 non-null    object \n",
      "dtypes: float64(1), int64(3), object(3)\n",
      "memory usage: 30.2+ KB\n"
     ]
    }
   ],
   "source": [
    "data = pd.read_csv('../input/amazon-top-50-bestselling-books-2009-2019/bestsellers with categories.csv')\n",
    "data.info()\n"
   ]
  },
  {
   "cell_type": "code",
   "execution_count": 26,
   "id": "b0a48286",
   "metadata": {
    "execution": {
     "iopub.execute_input": "2022-02-24T09:09:03.166551Z",
     "iopub.status.busy": "2022-02-24T09:09:03.165530Z",
     "iopub.status.idle": "2022-02-24T09:09:03.524983Z",
     "shell.execute_reply": "2022-02-24T09:09:03.524485Z",
     "shell.execute_reply.started": "2022-02-23T17:27:07.642643Z"
    },
    "id": "H7vhJESREfx9",
    "outputId": "892857d9-dd87-431e-f021-52a125dc2d76",
    "papermill": {
     "duration": 0.453884,
     "end_time": "2022-02-24T09:09:03.525160",
     "exception": false,
     "start_time": "2022-02-24T09:09:03.071276",
     "status": "completed"
    },
    "tags": []
   },
   "outputs": [
    {
     "data": {
      "image/png": "[encoded data removed]",
      "text/plain": [
       "<Figure size 1440x576 with 3 Axes>"
      ]
     },
     "metadata": {},
     "output_type": "display_data"
    }
   ],
   "source": [
    "#sayısal değişkenlerimiz User Rating, Reviews, Price\n",
    "#bu değerlerde kutu grafiği ile outlier tespit etmeye çalışalım\n",
    "num_cols = ['User Rating', 'Reviews', 'Price']\n",
    "fig, ax = plt.subplots(1,3, figsize = (20, 8))\n",
    "\n",
    "for i in range(3):\n",
    "  ax[i].boxplot(data[num_cols[i]])\n",
    "  ax[i].set_title(num_cols[i])\n",
    " \n",
    " \n",
    "plt.show()"
   ]
  },
  {
   "cell_type": "code",
   "execution_count": 27,
   "id": "5b77f3ae",
   "metadata": {
    "execution": {
     "iopub.execute_input": "2022-02-24T09:09:03.714502Z",
     "iopub.status.busy": "2022-02-24T09:09:03.713798Z",
     "iopub.status.idle": "2022-02-24T09:09:03.716512Z",
     "shell.execute_reply": "2022-02-24T09:09:03.716980Z",
     "shell.execute_reply.started": "2022-02-23T17:27:08.021739Z"
    },
    "id": "7FIyJr19GrK0",
    "outputId": "91df95b7-22c6-4a72-d2ff-781527db9fb1",
    "papermill": {
     "duration": 0.103386,
     "end_time": "2022-02-24T09:09:03.717162",
     "exception": false,
     "start_time": "2022-02-24T09:09:03.613776",
     "status": "completed"
    },
    "tags": []
   },
   "outputs": [
    {
     "data": {
      "text/html": [
       "<div>\n",
       "<style scoped>\n",
       "    .dataframe tbody tr th:only-of-type {\n",
       "        vertical-align: middle;\n",
       "    }\n",
       "\n",
       "    .dataframe tbody tr th {\n",
       "        vertical-align: top;\n",
       "    }\n",
       "\n",
       "    .dataframe thead th {\n",
       "        text-align: right;\n",
       "    }\n",
       "</style>\n",
       "<table border=\"1\" class=\"dataframe\">\n",
       "  <thead>\n",
       "    <tr style=\"text-align: right;\">\n",
       "      <th></th>\n",
       "      <th>Name</th>\n",
       "      <th>Author</th>\n",
       "      <th>User Rating</th>\n",
       "      <th>Reviews</th>\n",
       "      <th>Price</th>\n",
       "      <th>Year</th>\n",
       "      <th>Genre</th>\n",
       "    </tr>\n",
       "  </thead>\n",
       "  <tbody>\n",
       "    <tr>\n",
       "      <th>353</th>\n",
       "      <td>The Casual Vacancy</td>\n",
       "      <td>J.K. Rowling</td>\n",
       "      <td>3.3</td>\n",
       "      <td>9372</td>\n",
       "      <td>12</td>\n",
       "      <td>2012</td>\n",
       "      <td>Fiction</td>\n",
       "    </tr>\n",
       "  </tbody>\n",
       "</table>\n",
       "</div>"
      ],
      "text/plain": [
       "                   Name        Author  User Rating  Reviews  Price  Year  \\\n",
       "353  The Casual Vacancy  J.K. Rowling          3.3     9372     12  2012   \n",
       "\n",
       "       Genre  \n",
       "353  Fiction  "
      ]
     },
     "execution_count": 27,
     "metadata": {},
     "output_type": "execute_result"
    }
   ],
   "source": [
    "#üç değişkende de aykırı değer tespit ettik. filtreleme işlemleri yapıp aykırı değerleri veriden görebiliriz.\n",
    "#Sadece en uçlardaki aykırı değerleri görüntüleyelim:\n",
    "data[data['User Rating']==min(data['User Rating'].values)]"
   ]
  },
  {
   "cell_type": "code",
   "execution_count": 28,
   "id": "f4c71b11",
   "metadata": {
    "execution": {
     "iopub.execute_input": "2022-02-24T09:09:03.897825Z",
     "iopub.status.busy": "2022-02-24T09:09:03.897226Z",
     "iopub.status.idle": "2022-02-24T09:09:03.908288Z",
     "shell.execute_reply": "2022-02-24T09:09:03.908760Z",
     "shell.execute_reply.started": "2022-02-23T17:27:08.035342Z"
    },
    "id": "uvLbWeAFHrVi",
    "outputId": "25c2a990-f822-4637-d09d-d14ed6d03770",
    "papermill": {
     "duration": 0.103264,
     "end_time": "2022-02-24T09:09:03.908933",
     "exception": false,
     "start_time": "2022-02-24T09:09:03.805669",
     "status": "completed"
    },
    "tags": []
   },
   "outputs": [
    {
     "data": {
      "text/html": [
       "<div>\n",
       "<style scoped>\n",
       "    .dataframe tbody tr th:only-of-type {\n",
       "        vertical-align: middle;\n",
       "    }\n",
       "\n",
       "    .dataframe tbody tr th {\n",
       "        vertical-align: top;\n",
       "    }\n",
       "\n",
       "    .dataframe thead th {\n",
       "        text-align: right;\n",
       "    }\n",
       "</style>\n",
       "<table border=\"1\" class=\"dataframe\">\n",
       "  <thead>\n",
       "    <tr style=\"text-align: right;\">\n",
       "      <th></th>\n",
       "      <th>Name</th>\n",
       "      <th>Author</th>\n",
       "      <th>User Rating</th>\n",
       "      <th>Reviews</th>\n",
       "      <th>Price</th>\n",
       "      <th>Year</th>\n",
       "      <th>Genre</th>\n",
       "    </tr>\n",
       "  </thead>\n",
       "  <tbody>\n",
       "    <tr>\n",
       "      <th>534</th>\n",
       "      <td>Where the Crawdads Sing</td>\n",
       "      <td>Delia Owens</td>\n",
       "      <td>4.8</td>\n",
       "      <td>87841</td>\n",
       "      <td>15</td>\n",
       "      <td>2019</td>\n",
       "      <td>Fiction</td>\n",
       "    </tr>\n",
       "  </tbody>\n",
       "</table>\n",
       "</div>"
      ],
      "text/plain": [
       "                        Name       Author  User Rating  Reviews  Price  Year  \\\n",
       "534  Where the Crawdads Sing  Delia Owens          4.8    87841     15  2019   \n",
       "\n",
       "       Genre  \n",
       "534  Fiction  "
      ]
     },
     "execution_count": 28,
     "metadata": {},
     "output_type": "execute_result"
    }
   ],
   "source": [
    "data[data['Reviews']==max(data['Reviews'].values)]"
   ]
  },
  {
   "cell_type": "code",
   "execution_count": 29,
   "id": "6e384b09",
   "metadata": {
    "execution": {
     "iopub.execute_input": "2022-02-24T09:09:04.091878Z",
     "iopub.status.busy": "2022-02-24T09:09:04.091151Z",
     "iopub.status.idle": "2022-02-24T09:09:04.103695Z",
     "shell.execute_reply": "2022-02-24T09:09:04.103082Z",
     "shell.execute_reply.started": "2022-02-23T17:27:08.054461Z"
    },
    "id": "l1j-EtS1H5WH",
    "outputId": "7ef424a9-e73d-49f6-fdb8-6d692ac65573",
    "papermill": {
     "duration": 0.105314,
     "end_time": "2022-02-24T09:09:04.103826",
     "exception": false,
     "start_time": "2022-02-24T09:09:03.998512",
     "status": "completed"
    },
    "tags": []
   },
   "outputs": [
    {
     "data": {
      "text/html": [
       "<div>\n",
       "<style scoped>\n",
       "    .dataframe tbody tr th:only-of-type {\n",
       "        vertical-align: middle;\n",
       "    }\n",
       "\n",
       "    .dataframe tbody tr th {\n",
       "        vertical-align: top;\n",
       "    }\n",
       "\n",
       "    .dataframe thead th {\n",
       "        text-align: right;\n",
       "    }\n",
       "</style>\n",
       "<table border=\"1\" class=\"dataframe\">\n",
       "  <thead>\n",
       "    <tr style=\"text-align: right;\">\n",
       "      <th></th>\n",
       "      <th>Name</th>\n",
       "      <th>Author</th>\n",
       "      <th>User Rating</th>\n",
       "      <th>Reviews</th>\n",
       "      <th>Price</th>\n",
       "      <th>Year</th>\n",
       "      <th>Genre</th>\n",
       "    </tr>\n",
       "  </thead>\n",
       "  <tbody>\n",
       "    <tr>\n",
       "      <th>69</th>\n",
       "      <td>Diagnostic and Statistical Manual of Mental Di...</td>\n",
       "      <td>American Psychiatric Association</td>\n",
       "      <td>4.5</td>\n",
       "      <td>6679</td>\n",
       "      <td>105</td>\n",
       "      <td>2013</td>\n",
       "      <td>Non Fiction</td>\n",
       "    </tr>\n",
       "    <tr>\n",
       "      <th>70</th>\n",
       "      <td>Diagnostic and Statistical Manual of Mental Di...</td>\n",
       "      <td>American Psychiatric Association</td>\n",
       "      <td>4.5</td>\n",
       "      <td>6679</td>\n",
       "      <td>105</td>\n",
       "      <td>2014</td>\n",
       "      <td>Non Fiction</td>\n",
       "    </tr>\n",
       "  </tbody>\n",
       "</table>\n",
       "</div>"
      ],
      "text/plain": [
       "                                                 Name  \\\n",
       "69  Diagnostic and Statistical Manual of Mental Di...   \n",
       "70  Diagnostic and Statistical Manual of Mental Di...   \n",
       "\n",
       "                              Author  User Rating  Reviews  Price  Year  \\\n",
       "69  American Psychiatric Association          4.5     6679    105  2013   \n",
       "70  American Psychiatric Association          4.5     6679    105  2014   \n",
       "\n",
       "          Genre  \n",
       "69  Non Fiction  \n",
       "70  Non Fiction  "
      ]
     },
     "execution_count": 29,
     "metadata": {},
     "output_type": "execute_result"
    }
   ],
   "source": [
    "data[data['Price']==max(data['Price'].values)]"
   ]
  },
  {
   "cell_type": "markdown",
   "id": "b552708c",
   "metadata": {
    "id": "FQ6rOwR5DZM9",
    "papermill": {
     "duration": 0.091826,
     "end_time": "2022-02-24T09:09:04.285705",
     "exception": false,
     "start_time": "2022-02-24T09:09:04.193879",
     "status": "completed"
    },
    "tags": []
   },
   "source": [
    "### **Histogram grafiği**<a id=\"HistogramGrafiği\"></a>\n",
    "Yukarıda da yaptığımız histogram grafiği aykırı değer tespiti için de kullanılır. Örneğin:\n",
    "<center><img src=\"https://spss-tutorials.com/img/spss-outliers-in-histogram-235.png\n",
    "\" /></center>\n",
    "\n"
   ]
  },
  {
   "cell_type": "code",
   "execution_count": 30,
   "id": "d9580b23",
   "metadata": {
    "execution": {
     "iopub.execute_input": "2022-02-24T09:09:04.470668Z",
     "iopub.status.busy": "2022-02-24T09:09:04.469658Z",
     "iopub.status.idle": "2022-02-24T09:09:05.060037Z",
     "shell.execute_reply": "2022-02-24T09:09:05.060549Z",
     "shell.execute_reply.started": "2022-02-23T17:27:08.071092Z"
    },
    "id": "XHP-vsx4IFgt",
    "outputId": "e962760d-8ef1-4d52-e5ad-847e5109515d",
    "papermill": {
     "duration": 0.68438,
     "end_time": "2022-02-24T09:09:05.060720",
     "exception": false,
     "start_time": "2022-02-24T09:09:04.376340",
     "status": "completed"
    },
    "tags": []
   },
   "outputs": [
    {
     "data": {
      "image/png": "[encoded data removed]",
      "text/plain": [
       "<Figure size 1440x576 with 3 Axes>"
      ]
     },
     "metadata": {},
     "output_type": "display_data"
    }
   ],
   "source": [
    "fig, ax = plt.subplots(1, 3, figsize = (20, 8))\n",
    " \n",
    "for i in range(3):\n",
    "  ax[i].hist(data[num_cols[i]])\n",
    "  ax[i].set_title(num_cols[i])\n",
    " \n",
    "plt.show()\n",
    "#Histogram grafiğinde her üç değişkenin de normal dağılıma sahip olmadığını görüyoruz. "
   ]
  },
  {
   "cell_type": "markdown",
   "id": "a7d225d2",
   "metadata": {
    "id": "4Z4hFw2TDdFW",
    "papermill": {
     "duration": 0.091613,
     "end_time": "2022-02-24T09:09:05.243840",
     "exception": false,
     "start_time": "2022-02-24T09:09:05.152227",
     "status": "completed"
    },
    "tags": []
   },
   "source": [
    "### **Çeyrekler açıklığı (Interquartile Range – IQR)**<a id=\"ÇeyreklerAçıklığı\"></a>\n",
    "Çeyrekler açıklığı, 1. ve 3. çeyreği değerleri arasındaki farka verilen isimdir. Yukarıdaki kutu grafiğinden de anlaşıldığı gibi verinin orta %50'lik kısmını ifade eder. \n",
    "Yine yukarıdaki kutu grafiğinde de görüldüğü gibi, verinin 1. çeyrekdeğerinden 1.5 kat az, 3. çeyrek değerinden 1.5 kat fazla olan değerler aykırı olarak sınıflandırılır. Kutu grafiği bu gösterimi güzel bir şekilde yaptığı için çok faydalı bir grafiktir.\n",
    "\n",
    "Not: Çeyrekler açıklığı aykırı değerlerden etkilenmez, hesaplanması kolaydır. Ancak veride sezonsallık varsa kullanışlı değildir.\n",
    "\n"
   ]
  },
  {
   "cell_type": "code",
   "execution_count": 31,
   "id": "c2c7db05",
   "metadata": {
    "execution": {
     "iopub.execute_input": "2022-02-24T09:09:05.432087Z",
     "iopub.status.busy": "2022-02-24T09:09:05.431092Z",
     "iopub.status.idle": "2022-02-24T09:09:05.449356Z",
     "shell.execute_reply": "2022-02-24T09:09:05.449824Z",
     "shell.execute_reply.started": "2022-02-23T17:27:08.652959Z"
    },
    "id": "Hoq3lyR_Ir6s",
    "outputId": "fa61d85e-2572-4f5c-e169-aa9b196e8243",
    "papermill": {
     "duration": 0.11349,
     "end_time": "2022-02-24T09:09:05.449986",
     "exception": false,
     "start_time": "2022-02-24T09:09:05.336496",
     "status": "completed"
    },
    "tags": []
   },
   "outputs": [
    {
     "name": "stdout",
     "output_type": "stream",
     "text": [
      "Outlier sayısı: 31\n"
     ]
    },
    {
     "data": {
      "text/html": [
       "<div>\n",
       "<style scoped>\n",
       "    .dataframe tbody tr th:only-of-type {\n",
       "        vertical-align: middle;\n",
       "    }\n",
       "\n",
       "    .dataframe tbody tr th {\n",
       "        vertical-align: top;\n",
       "    }\n",
       "\n",
       "    .dataframe thead th {\n",
       "        text-align: right;\n",
       "    }\n",
       "</style>\n",
       "<table border=\"1\" class=\"dataframe\">\n",
       "  <thead>\n",
       "    <tr style=\"text-align: right;\">\n",
       "      <th></th>\n",
       "      <th>Name</th>\n",
       "      <th>Author</th>\n",
       "      <th>User Rating</th>\n",
       "      <th>Reviews</th>\n",
       "      <th>Price</th>\n",
       "      <th>Year</th>\n",
       "      <th>Genre</th>\n",
       "    </tr>\n",
       "  </thead>\n",
       "  <tbody>\n",
       "    <tr>\n",
       "      <th>6</th>\n",
       "      <td>A Game of Thrones / A Clash of Kings / A Storm...</td>\n",
       "      <td>George R. R. Martin</td>\n",
       "      <td>4.7</td>\n",
       "      <td>19735</td>\n",
       "      <td>30</td>\n",
       "      <td>2014</td>\n",
       "      <td>Fiction</td>\n",
       "    </tr>\n",
       "    <tr>\n",
       "      <th>12</th>\n",
       "      <td>A Stolen Life: A Memoir</td>\n",
       "      <td>Jaycee Dugard</td>\n",
       "      <td>4.6</td>\n",
       "      <td>4149</td>\n",
       "      <td>32</td>\n",
       "      <td>2011</td>\n",
       "      <td>Non Fiction</td>\n",
       "    </tr>\n",
       "    <tr>\n",
       "      <th>69</th>\n",
       "      <td>Diagnostic and Statistical Manual of Mental Di...</td>\n",
       "      <td>American Psychiatric Association</td>\n",
       "      <td>4.5</td>\n",
       "      <td>6679</td>\n",
       "      <td>105</td>\n",
       "      <td>2013</td>\n",
       "      <td>Non Fiction</td>\n",
       "    </tr>\n",
       "  </tbody>\n",
       "</table>\n",
       "</div>"
      ],
      "text/plain": [
       "                                                 Name  \\\n",
       "6   A Game of Thrones / A Clash of Kings / A Storm...   \n",
       "12                            A Stolen Life: A Memoir   \n",
       "69  Diagnostic and Statistical Manual of Mental Di...   \n",
       "\n",
       "                              Author  User Rating  Reviews  Price  Year  \\\n",
       "6                George R. R. Martin          4.7    19735     30  2014   \n",
       "12                     Jaycee Dugard          4.6     4149     32  2011   \n",
       "69  American Psychiatric Association          4.5     6679    105  2013   \n",
       "\n",
       "          Genre  \n",
       "6       Fiction  \n",
       "12  Non Fiction  \n",
       "69  Non Fiction  "
      ]
     },
     "execution_count": 31,
     "metadata": {},
     "output_type": "execute_result"
    }
   ],
   "source": [
    "\n",
    "def outlier_detect(df, col):\n",
    "    \"\"\"\n",
    "    >>> input: data frame ve outlier tespit edilecek kolon (string)\n",
    "    >>> output: outlier değerlerin olduğu satırlar\n",
    "    \"\"\"\n",
    "    #iqr hesaplama\n",
    "    #1. ve 3. çeyrekler\n",
    "    Q1 = np.quantile(df[col], 0.25)  \n",
    "    Q3 = np.quantile(df[col], 0.75) \n",
    "\n",
    "    #IQR hesaplama\n",
    "    IQR = Q3 - Q1\n",
    "\n",
    "    #aykırı  değer limitleri\n",
    "    low_lim = Q1 - 1.5 * IQR\n",
    "    up_lim = Q3 + 1.5 * IQR\n",
    "\n",
    "    #Aykırı değerleri getirme\n",
    "    out_vals = df[(df[col] < low_lim) | (df[col] > up_lim)]\n",
    "    return out_vals\n",
    "\n",
    "Price_outlier = outlier_detect(data, 'Price')\n",
    "\n",
    "print('Outlier sayısı:', len(Price_outlier))\n",
    "Price_outlier.head(3)\n",
    "\n"
   ]
  },
  {
   "cell_type": "markdown",
   "id": "08bddf58",
   "metadata": {
    "id": "x8pB6J2EDqIZ",
    "papermill": {
     "duration": 0.092008,
     "end_time": "2022-02-24T09:09:05.633960",
     "exception": false,
     "start_time": "2022-02-24T09:09:05.541952",
     "status": "completed"
    },
    "tags": []
   },
   "source": [
    "### **Ortanca Mutlak Sapma (Median Absolute Deviation – MAD) Metodu**<a id=\"OrtancaMutlakSapmaMetodu\"></a>\n",
    "Aykırı değerler verinin ortalamasını ve standart sapmasını etkiler. Örneğin 5 kişilik bir grupta bir kişi 50.000 tl aylık kazanıyor ve diğerleri asgari ücret kazanıyorsa grubun ortalaması çok etkilenir. Ortalama verideki aykırı değerlerden en çok etkilenen merkezi eğilim ölçüsüdür. Veride aykırı değerler olduğu durumda medyan daha doğru bir ölçüdür. Ortanca mutlak sapma değeri, veri setindeki gözlemlerin ortanca değerden ne kadar uzakta olduğunun ölçüsüdür.\n",
    "<center><img src=\"https://uploads-cdn.omnicalculator.com/images/median_absolute_deviation.png\n",
    "\" /></center>\n",
    "\n",
    "Değişkenin normal dağılıma sahip olmadığı, yani sağa veya sola çarpık olduğu dağılımlarda etkinlik azalır. Doğru analiz yapabilmek için “Çift Ortanca Mutlak Sapma (Double MAD)” yöntemi kullanılır.\n",
    "\n",
    "Not: Ortanca mutlak sapma metodu ayıkırı değerlerden az etkilenir, bütün verileri dikkate aldığı için çeyrekler açıklığı yönteminden daha güçlü bir yöntemdir, verinin normal dağılmadığı durumlarda etkili, normal dağıldığı durumlarda ise etkisizdir.\n",
    "\n"
   ]
  },
  {
   "cell_type": "code",
   "execution_count": 32,
   "id": "bc4d6d73",
   "metadata": {
    "execution": {
     "iopub.execute_input": "2022-02-24T09:09:05.823251Z",
     "iopub.status.busy": "2022-02-24T09:09:05.822284Z",
     "iopub.status.idle": "2022-02-24T09:09:05.843144Z",
     "shell.execute_reply": "2022-02-24T09:09:05.843630Z",
     "shell.execute_reply.started": "2022-02-23T17:27:08.676892Z"
    },
    "id": "1CAsRx3HNE9r",
    "outputId": "a224904c-8970-4c13-f85d-c640b078a4f0",
    "papermill": {
     "duration": 0.117406,
     "end_time": "2022-02-24T09:09:05.843794",
     "exception": false,
     "start_time": "2022-02-24T09:09:05.726388",
     "status": "completed"
    },
    "tags": []
   },
   "outputs": [
    {
     "name": "stdout",
     "output_type": "stream",
     "text": [
      "Outlier sayısı: 26\n"
     ]
    },
    {
     "data": {
      "text/html": [
       "<div>\n",
       "<style scoped>\n",
       "    .dataframe tbody tr th:only-of-type {\n",
       "        vertical-align: middle;\n",
       "    }\n",
       "\n",
       "    .dataframe tbody tr th {\n",
       "        vertical-align: top;\n",
       "    }\n",
       "\n",
       "    .dataframe thead th {\n",
       "        text-align: right;\n",
       "    }\n",
       "</style>\n",
       "<table border=\"1\" class=\"dataframe\">\n",
       "  <thead>\n",
       "    <tr style=\"text-align: right;\">\n",
       "      <th></th>\n",
       "      <th>Name</th>\n",
       "      <th>Author</th>\n",
       "      <th>User Rating</th>\n",
       "      <th>Reviews</th>\n",
       "      <th>Price</th>\n",
       "      <th>Year</th>\n",
       "      <th>Genre</th>\n",
       "    </tr>\n",
       "  </thead>\n",
       "  <tbody>\n",
       "    <tr>\n",
       "      <th>12</th>\n",
       "      <td>A Stolen Life: A Memoir</td>\n",
       "      <td>Jaycee Dugard</td>\n",
       "      <td>4.6</td>\n",
       "      <td>4149</td>\n",
       "      <td>32</td>\n",
       "      <td>2011</td>\n",
       "      <td>Non Fiction</td>\n",
       "    </tr>\n",
       "    <tr>\n",
       "      <th>69</th>\n",
       "      <td>Diagnostic and Statistical Manual of Mental Di...</td>\n",
       "      <td>American Psychiatric Association</td>\n",
       "      <td>4.5</td>\n",
       "      <td>6679</td>\n",
       "      <td>105</td>\n",
       "      <td>2013</td>\n",
       "      <td>Non Fiction</td>\n",
       "    </tr>\n",
       "    <tr>\n",
       "      <th>70</th>\n",
       "      <td>Diagnostic and Statistical Manual of Mental Di...</td>\n",
       "      <td>American Psychiatric Association</td>\n",
       "      <td>4.5</td>\n",
       "      <td>6679</td>\n",
       "      <td>105</td>\n",
       "      <td>2014</td>\n",
       "      <td>Non Fiction</td>\n",
       "    </tr>\n",
       "  </tbody>\n",
       "</table>\n",
       "</div>"
      ],
      "text/plain": [
       "                                                 Name  \\\n",
       "12                            A Stolen Life: A Memoir   \n",
       "69  Diagnostic and Statistical Manual of Mental Di...   \n",
       "70  Diagnostic and Statistical Manual of Mental Di...   \n",
       "\n",
       "                              Author  User Rating  Reviews  Price  Year  \\\n",
       "12                     Jaycee Dugard          4.6     4149     32  2011   \n",
       "69  American Psychiatric Association          4.5     6679    105  2013   \n",
       "70  American Psychiatric Association          4.5     6679    105  2014   \n",
       "\n",
       "          Genre  \n",
       "12  Non Fiction  \n",
       "69  Non Fiction  \n",
       "70  Non Fiction  "
      ]
     },
     "execution_count": 32,
     "metadata": {},
     "output_type": "execute_result"
    }
   ],
   "source": [
    "def double_mad(df, col):\n",
    "    \"\"\"\n",
    "    >>> input: data frame ve outlier tespit edilecek kolon (string)\n",
    "    >>> output: outlier değerlerin olduğu satırlar\n",
    "    \"\"\"\n",
    "    c = 1.4826\n",
    "    q2 = np.median(df[col])\n",
    "    bot_val = df.loc[df[col] <= df[col].median(), col]\n",
    "    bot_mad = (abs(bot_val - q2).median()) * c\n",
    "    up_val = df.loc[df[col] >= df[col].median(), col]\n",
    "    up_mad = (abs(up_val - q2).median()) * c\n",
    "    lower_t = q2 - (3 * bot_mad)\n",
    "    upper_t = q2 + (3 * up_mad)\n",
    "    return df[(df[col] < lower_t) | (df[col] > upper_t)]\n",
    "\n",
    "Price_outlier = double_mad(data, 'Price')\n",
    "\n",
    "print('Outlier sayısı:', len(Price_outlier))\n",
    "Price_outlier.head(3)"
   ]
  },
  {
   "cell_type": "markdown",
   "id": "756d5d44",
   "metadata": {
    "id": "WWOfS7HeDugZ",
    "papermill": {
     "duration": 0.093073,
     "end_time": "2022-02-24T09:09:06.029897",
     "exception": false,
     "start_time": "2022-02-24T09:09:05.936824",
     "status": "completed"
    },
    "tags": []
   },
   "source": [
    "### **Z-skoru (Z-Score)**<a id=\"Z-skoru\"></a>\n",
    "Z-skoru, normal dağılıma sahip bir veri setinde, bir gözlemin ortalamadan ne kadar standart sapma saptığını gösterir. \n",
    "<center><img src=\"https://www.simplypsychology.org/Z-score-formula.jpg?ezimgfmt=rs:382x312/rscb30/ng:webp/ngcb30\n",
    "\" /></center>\n",
    "\n",
    "Normal dağılıma sahip bir veride, verilerin %68'inin ortalamadan 1 standart sapma uzakta, %95'inin 2 standart sapma uzakta, %99.7 si ise 3 standart sapma uzaklıkta olduğu kabul edilir.\n",
    "<center><img src=\"https://www.w3schools.com/statistics/img_normal_distribution.svg\n",
    "\" /></center>\n",
    "\n",
    "Yukarıdaki resimde görülen %0.1 lik değerler yani ortalamadan 3 standart sapma uzakta olan değerler aykırı değerlerdir.\n",
    "Not: Z-skoru aykırı değerlerden etkilenir. Veri normal dağılıma uymuyorsa ilk olarak verinin normalleştirilmesi gerekir.\n",
    "\n"
   ]
  },
  {
   "cell_type": "code",
   "execution_count": 33,
   "id": "ecd87587",
   "metadata": {
    "execution": {
     "iopub.execute_input": "2022-02-24T09:09:06.233663Z",
     "iopub.status.busy": "2022-02-24T09:09:06.232640Z",
     "iopub.status.idle": "2022-02-24T09:09:06.237317Z",
     "shell.execute_reply": "2022-02-24T09:09:06.237805Z",
     "shell.execute_reply.started": "2022-02-23T17:27:08.702926Z"
    },
    "id": "r27Mr4HEQBJX",
    "outputId": "aa7e3f53-2294-4aab-aefe-dc5829f5be62",
    "papermill": {
     "duration": 0.114158,
     "end_time": "2022-02-24T09:09:06.237969",
     "exception": false,
     "start_time": "2022-02-24T09:09:06.123811",
     "status": "completed"
    },
    "tags": []
   },
   "outputs": [
    {
     "name": "stdout",
     "output_type": "stream",
     "text": [
      "Outlier sayısı: 16\n"
     ]
    },
    {
     "data": {
      "text/html": [
       "<div>\n",
       "<style scoped>\n",
       "    .dataframe tbody tr th:only-of-type {\n",
       "        vertical-align: middle;\n",
       "    }\n",
       "\n",
       "    .dataframe tbody tr th {\n",
       "        vertical-align: top;\n",
       "    }\n",
       "\n",
       "    .dataframe thead th {\n",
       "        text-align: right;\n",
       "    }\n",
       "</style>\n",
       "<table border=\"1\" class=\"dataframe\">\n",
       "  <thead>\n",
       "    <tr style=\"text-align: right;\">\n",
       "      <th></th>\n",
       "      <th>Name</th>\n",
       "      <th>Author</th>\n",
       "      <th>User Rating</th>\n",
       "      <th>Reviews</th>\n",
       "      <th>Price</th>\n",
       "      <th>Year</th>\n",
       "      <th>Genre</th>\n",
       "    </tr>\n",
       "  </thead>\n",
       "  <tbody>\n",
       "    <tr>\n",
       "      <th>69</th>\n",
       "      <td>Diagnostic and Statistical Manual of Mental Di...</td>\n",
       "      <td>American Psychiatric Association</td>\n",
       "      <td>4.5</td>\n",
       "      <td>6679</td>\n",
       "      <td>105</td>\n",
       "      <td>2013</td>\n",
       "      <td>Non Fiction</td>\n",
       "    </tr>\n",
       "    <tr>\n",
       "      <th>70</th>\n",
       "      <td>Diagnostic and Statistical Manual of Mental Di...</td>\n",
       "      <td>American Psychiatric Association</td>\n",
       "      <td>4.5</td>\n",
       "      <td>6679</td>\n",
       "      <td>105</td>\n",
       "      <td>2014</td>\n",
       "      <td>Non Fiction</td>\n",
       "    </tr>\n",
       "    <tr>\n",
       "      <th>151</th>\n",
       "      <td>Hamilton: The Revolution</td>\n",
       "      <td>Lin-Manuel Miranda</td>\n",
       "      <td>4.9</td>\n",
       "      <td>5867</td>\n",
       "      <td>54</td>\n",
       "      <td>2016</td>\n",
       "      <td>Non Fiction</td>\n",
       "    </tr>\n",
       "  </tbody>\n",
       "</table>\n",
       "</div>"
      ],
      "text/plain": [
       "                                                  Name  \\\n",
       "69   Diagnostic and Statistical Manual of Mental Di...   \n",
       "70   Diagnostic and Statistical Manual of Mental Di...   \n",
       "151                           Hamilton: The Revolution   \n",
       "\n",
       "                               Author  User Rating  Reviews  Price  Year  \\\n",
       "69   American Psychiatric Association          4.5     6679    105  2013   \n",
       "70   American Psychiatric Association          4.5     6679    105  2014   \n",
       "151                Lin-Manuel Miranda          4.9     5867     54  2016   \n",
       "\n",
       "           Genre  \n",
       "69   Non Fiction  \n",
       "70   Non Fiction  \n",
       "151  Non Fiction  "
      ]
     },
     "execution_count": 33,
     "metadata": {},
     "output_type": "execute_result"
    }
   ],
   "source": [
    "def z_score_outliers(df, col):\n",
    "  mean = np.mean(df[col].values)\n",
    "  std = np.std(df[col].values)\n",
    "  threshold = 3\n",
    "  z = (df[col]-mean)/std\n",
    "\n",
    "  return df[z > threshold]\n",
    "\n",
    "Price_outlier = z_score_outliers(data, 'Price')\n",
    "\n",
    "print('Outlier sayısı:', len(Price_outlier))\n",
    "Price_outlier.head(3)"
   ]
  },
  {
   "cell_type": "markdown",
   "id": "48a6440e",
   "metadata": {
    "id": "Jni6wvVPSxIx",
    "papermill": {
     "duration": 0.094587,
     "end_time": "2022-02-24T09:09:06.427527",
     "exception": false,
     "start_time": "2022-02-24T09:09:06.332940",
     "status": "completed"
    },
    "tags": []
   },
   "source": [
    "### **Hampel Filtresi**<a id=\"HampelFiltresi\"></a>\n",
    "Hampel filtresi, ortanca mutlak sapma değerini kullanan güçlü bir aykırı değer tespit metodudur. Zaman serilerinde aykırı değer tespiti için etklidir.\n",
    "\n",
    "---"
   ]
  },
  {
   "cell_type": "code",
   "execution_count": 34,
   "id": "b83c68b3",
   "metadata": {
    "execution": {
     "iopub.execute_input": "2022-02-24T09:09:06.625934Z",
     "iopub.status.busy": "2022-02-24T09:09:06.625241Z",
     "iopub.status.idle": "2022-02-24T09:09:17.184788Z",
     "shell.execute_reply": "2022-02-24T09:09:17.184216Z",
     "shell.execute_reply.started": "2022-02-23T17:27:08.721523Z"
    },
    "id": "wccfQfp2Sw2d",
    "outputId": "08725ac9-6815-4abb-f97f-10eaf3321c7e",
    "papermill": {
     "duration": 10.662279,
     "end_time": "2022-02-24T09:09:17.184926",
     "exception": false,
     "start_time": "2022-02-24T09:09:06.522647",
     "status": "completed"
    },
    "tags": []
   },
   "outputs": [
    {
     "name": "stdout",
     "output_type": "stream",
     "text": [
      "Collecting hampel\r\n",
      "  Downloading hampel-0.0.5-py3-none-any.whl (3.7 kB)\r\n",
      "Requirement already satisfied: pandas in /opt/conda/lib/python3.7/site-packages (from hampel) (1.3.5)\r\n",
      "Requirement already satisfied: numpy in /opt/conda/lib/python3.7/site-packages (from hampel) (1.20.3)\r\n",
      "Requirement already satisfied: python-dateutil>=2.7.3 in /opt/conda/lib/python3.7/site-packages (from pandas->hampel) (2.8.2)\r\n",
      "Requirement already satisfied: pytz>=2017.3 in /opt/conda/lib/python3.7/site-packages (from pandas->hampel) (2021.3)\r\n",
      "Requirement already satisfied: six>=1.5 in /opt/conda/lib/python3.7/site-packages (from python-dateutil>=2.7.3->pandas->hampel) (1.16.0)\r\n",
      "Installing collected packages: hampel\r\n",
      "Successfully installed hampel-0.0.5\r\n",
      "\u001b[33mWARNING: Running pip as the 'root' user can result in broken permissions and conflicting behaviour with the system package manager. It is recommended to use a virtual environment instead: https://pip.pypa.io/warnings/venv\u001b[0m\r\n",
      "Aykırı değerler:  [13, 15, 40, 580]\n"
     ]
    }
   ],
   "source": [
    "!pip install hampel\n",
    "from hampel import hampel\n",
    "ts = pd.Series([1, 2, 1 , 1 , 1, 2, 13, 2, 1, 2, 15, 1, 2, 40, 580, 1, 3])\n",
    "\n",
    "# Aykırı tespiti\n",
    "outlier_indices = hampel(ts, window_size=5, n=3)\n",
    "outliers = []\n",
    "\n",
    "for i in outlier_indices:\n",
    "  outliers.append(ts.iloc[i])\n",
    "\n",
    "print(\"Aykırı değerler: \", outliers)\n"
   ]
  },
  {
   "cell_type": "markdown",
   "id": "899a5fe5",
   "metadata": {
    "id": "Hn9TS3bqDxAk",
    "papermill": {
     "duration": 0.098738,
     "end_time": "2022-02-24T09:09:17.380532",
     "exception": false,
     "start_time": "2022-02-24T09:09:17.281794",
     "status": "completed"
    },
    "tags": []
   },
   "source": [
    "\n",
    "\n",
    "\n",
    "---\n",
    "Daha detaylı bilgi için:\n",
    "\n",
    "https://en.wikipedia.org/wiki/Outlier\n",
    "\n",
    "https://scikit-learn.org/stable/modules/outlier_detection.html\n",
    "\n",
    "https://ravenfo.com/2021/02/11/aykiri-deger-analizi/\n",
    "\n",
    "https://towardsdatascience.com/a-brief-overview-of-outlier-detection-techniques-1e0b2c19e561\n",
    "\n",
    "https://www.analyticsvidhya.com/blog/2021/05/feature-engineering-how-to-detect-and-remove-outliers-with-python-code/\n",
    "\n",
    "---\n",
    "\n"
   ]
  },
  {
   "cell_type": "markdown",
   "id": "90563351",
   "metadata": {
    "id": "L9S_CSs0LTSj",
    "papermill": {
     "duration": 0.097592,
     "end_time": "2022-02-24T09:09:17.573932",
     "exception": false,
     "start_time": "2022-02-24T09:09:17.476340",
     "status": "completed"
    },
    "tags": []
   },
   "source": [
    "Peki bu aykırı değerleri tespit ettikten sonra ne yapacağız?\n",
    "- Aykırı gözlemleri silebiliriz. Eğer aykırı değerler insan girdi hatası gibi gerçekten silinebilecek bir değerse silinmelidir. Onun dışında ilk tercihimiz olmamalıdır.\n",
    "- Aykırı değerleri başka değerler ile değiştirebiliriz. Verilerin ortalaması, medyanı, modu ile doldurabiliriz veya aykırı değerleri makine öğrenmesi metodlarıyla tahmin ettirerek doldurabiliriz.Ya da belli bir sınır vererek aykırı değerleri sınır değerlerle doldurabiliriz.\n",
    "- Ağaç temelli makine öğrenmesi modelleri aykırı değerlere karşı dayanıklıdır. XGBoost, random forest vb modeller tercih edilebilir.\n",
    "- Aykırı değerlerin veri üzerindeki etkisini azaltmak için dönüştürme işlemleri yapılabilir. Örn. Log dönüşümü, karekök dönüşümü\n",
    "\n"
   ]
  },
  {
   "cell_type": "markdown",
   "id": "f28f365c",
   "metadata": {
    "id": "_fnmBRaIMvD7",
    "papermill": {
     "duration": 0.096324,
     "end_time": "2022-02-24T09:09:17.767730",
     "exception": false,
     "start_time": "2022-02-24T09:09:17.671406",
     "status": "completed"
    },
    "tags": []
   },
   "source": [
    "### **Log dönüşümü**<a id=\"LogDönüşümü\"></a>"
   ]
  },
  {
   "cell_type": "code",
   "execution_count": 35,
   "id": "086aa17e",
   "metadata": {
    "execution": {
     "iopub.execute_input": "2022-02-24T09:09:17.984180Z",
     "iopub.status.busy": "2022-02-24T09:09:17.975747Z",
     "iopub.status.idle": "2022-02-24T09:09:17.988252Z",
     "shell.execute_reply": "2022-02-24T09:09:17.987622Z",
     "shell.execute_reply.started": "2022-02-23T17:27:18.914316Z"
    },
    "id": "pKLKg2GdlOFk",
    "outputId": "3079a2a5-c29b-4b34-8a89-ad811c7d46e4",
    "papermill": {
     "duration": 0.124149,
     "end_time": "2022-02-24T09:09:17.988395",
     "exception": false,
     "start_time": "2022-02-24T09:09:17.864246",
     "status": "completed"
    },
    "tags": []
   },
   "outputs": [
    {
     "data": {
      "text/html": [
       "<div>\n",
       "<style scoped>\n",
       "    .dataframe tbody tr th:only-of-type {\n",
       "        vertical-align: middle;\n",
       "    }\n",
       "\n",
       "    .dataframe tbody tr th {\n",
       "        vertical-align: top;\n",
       "    }\n",
       "\n",
       "    .dataframe thead th {\n",
       "        text-align: right;\n",
       "    }\n",
       "</style>\n",
       "<table border=\"1\" class=\"dataframe\">\n",
       "  <thead>\n",
       "    <tr style=\"text-align: right;\">\n",
       "      <th></th>\n",
       "      <th>skew</th>\n",
       "      <th>kurtosis</th>\n",
       "    </tr>\n",
       "  </thead>\n",
       "  <tbody>\n",
       "    <tr>\n",
       "      <th>User Rating</th>\n",
       "      <td>-1.502125</td>\n",
       "      <td>3.465375</td>\n",
       "    </tr>\n",
       "    <tr>\n",
       "      <th>Reviews</th>\n",
       "      <td>2.421597</td>\n",
       "      <td>8.809313</td>\n",
       "    </tr>\n",
       "    <tr>\n",
       "      <th>Price</th>\n",
       "      <td>3.685057</td>\n",
       "      <td>22.433520</td>\n",
       "    </tr>\n",
       "  </tbody>\n",
       "</table>\n",
       "</div>"
      ],
      "text/plain": [
       "                 skew   kurtosis\n",
       "User Rating -1.502125   3.465375\n",
       "Reviews      2.421597   8.809313\n",
       "Price        3.685057  22.433520"
      ]
     },
     "execution_count": 35,
     "metadata": {},
     "output_type": "execute_result"
    }
   ],
   "source": [
    "\n",
    "\"\"\"\n",
    "İlk olarak veri dağılımlarının ne kadar çarpık (skewness) ve ne kadar basık (kurtosis) olduğunu inceleyelim\n",
    "Çarpıklık değeri:\n",
    "\n",
    "-0.5 ile 0.5 arasında ise; neredeyse simetrik dağılıma,\n",
    "-0.5 ile -1.0 veya 0.5 ile 1.0 arasında ise; orta derecede çarpık dağılıma,\n",
    "-1.0’den veya 1.0’ten büyük ise; değişken çok çarpık dağılıma sahiptir.\n",
    "\"\"\"\n",
    "\n",
    "#Reviews ve  Price sağa yatık, User Rating ise sola yatık dağılıma sahip.\n",
    "#Price en çarpık dağılıma sahip\n",
    "data[[\"User Rating\", \"Reviews\", \"Price\"]].agg(['skew', 'kurtosis']).transpose()\n"
   ]
  },
  {
   "cell_type": "code",
   "execution_count": 36,
   "id": "e5f65935",
   "metadata": {
    "execution": {
     "iopub.execute_input": "2022-02-24T09:09:18.193590Z",
     "iopub.status.busy": "2022-02-24T09:09:18.192726Z",
     "iopub.status.idle": "2022-02-24T09:09:18.195904Z",
     "shell.execute_reply": "2022-02-24T09:09:18.196382Z",
     "shell.execute_reply.started": "2022-02-23T17:27:18.935129Z"
    },
    "id": "vyNpr35_PDQc",
    "outputId": "143098e3-9c0d-4008-8b9a-097c52e991f7",
    "papermill": {
     "duration": 0.110589,
     "end_time": "2022-02-24T09:09:18.196549",
     "exception": false,
     "start_time": "2022-02-24T09:09:18.085960",
     "status": "completed"
    },
    "tags": []
   },
   "outputs": [
    {
     "data": {
      "text/plain": [
       "new_user_rating    1.502125\n",
       "User Rating       -1.502125\n",
       "dtype: float64"
      ]
     },
     "execution_count": 36,
     "metadata": {},
     "output_type": "execute_result"
    }
   ],
   "source": [
    "#user rating sola yatık negatif bir dağılıma sahip olduğu için dönüşüm uygulayabilmek adına, verideki maksimum değere 1 ekleyip\n",
    "#diğer gözlemleri bu değişkenden çıkararak verinin dağılımını pozitife çeviriyoruz\n",
    "data[\"new_user_rating\"] = max(data[\"User Rating\"]) + 1 - data[\"User Rating\"]\n",
    " \n",
    "data[[\"new_user_rating\", \"User Rating\"]].agg('skew')"
   ]
  },
  {
   "cell_type": "code",
   "execution_count": 37,
   "id": "92e3dd5c",
   "metadata": {
    "execution": {
     "iopub.execute_input": "2022-02-24T09:09:18.409809Z",
     "iopub.status.busy": "2022-02-24T09:09:18.398308Z",
     "iopub.status.idle": "2022-02-24T09:09:18.413613Z",
     "shell.execute_reply": "2022-02-24T09:09:18.413105Z",
     "shell.execute_reply.started": "2022-02-23T17:27:18.951594Z"
    },
    "id": "0LS1piZZMse2",
    "outputId": "62c8723b-38d5-47cb-e122-f26355b6d80a",
    "papermill": {
     "duration": 0.120835,
     "end_time": "2022-02-24T09:09:18.413766",
     "exception": false,
     "start_time": "2022-02-24T09:09:18.292931",
     "status": "completed"
    },
    "tags": []
   },
   "outputs": [
    {
     "data": {
      "text/html": [
       "<div>\n",
       "<style scoped>\n",
       "    .dataframe tbody tr th:only-of-type {\n",
       "        vertical-align: middle;\n",
       "    }\n",
       "\n",
       "    .dataframe tbody tr th {\n",
       "        vertical-align: top;\n",
       "    }\n",
       "\n",
       "    .dataframe thead th {\n",
       "        text-align: right;\n",
       "    }\n",
       "</style>\n",
       "<table border=\"1\" class=\"dataframe\">\n",
       "  <thead>\n",
       "    <tr style=\"text-align: right;\">\n",
       "      <th></th>\n",
       "      <th>NewUserRating_log</th>\n",
       "      <th>Reviews_log</th>\n",
       "      <th>Price_log</th>\n",
       "    </tr>\n",
       "  </thead>\n",
       "  <tbody>\n",
       "    <tr>\n",
       "      <th>skew</th>\n",
       "      <td>-1.780832</td>\n",
       "      <td>-0.645521</td>\n",
       "      <td>NaN</td>\n",
       "    </tr>\n",
       "    <tr>\n",
       "      <th>kurtosis</th>\n",
       "      <td>5.197044</td>\n",
       "      <td>1.162259</td>\n",
       "      <td>NaN</td>\n",
       "    </tr>\n",
       "  </tbody>\n",
       "</table>\n",
       "</div>"
      ],
      "text/plain": [
       "          NewUserRating_log  Reviews_log  Price_log\n",
       "skew              -1.780832    -0.645521        NaN\n",
       "kurtosis           5.197044     1.162259        NaN"
      ]
     },
     "execution_count": 37,
     "metadata": {},
     "output_type": "execute_result"
    }
   ],
   "source": [
    "data[\"NewUserRating_log\"] = np.log(data[\"User Rating\"])\n",
    "data[\"Reviews_log\"] = np.log(data[\"Reviews\"])\n",
    "data[\"Price_log\"] = np.log(data[\"Price\"])\n",
    "\n",
    "#Price da sıfır değerler olduğu için dönüşüm işlemi sonucu NaN değerler aldık\n",
    "data[[\"NewUserRating_log\", \"Reviews_log\", 'Price_log']].agg(['skew', 'kurtosis'])"
   ]
  },
  {
   "cell_type": "markdown",
   "id": "f705ef70",
   "metadata": {
    "id": "Saj5DEq2Nukp",
    "papermill": {
     "duration": 0.099349,
     "end_time": "2022-02-24T09:09:18.611519",
     "exception": false,
     "start_time": "2022-02-24T09:09:18.512170",
     "status": "completed"
    },
    "tags": []
   },
   "source": [
    "### **Karekök dönüşümü**<a id=\"KarekökDnüşümü\"></a>"
   ]
  },
  {
   "cell_type": "code",
   "execution_count": 38,
   "id": "84d6e915",
   "metadata": {
    "execution": {
     "iopub.execute_input": "2022-02-24T09:09:18.826565Z",
     "iopub.status.busy": "2022-02-24T09:09:18.819450Z",
     "iopub.status.idle": "2022-02-24T09:09:18.831142Z",
     "shell.execute_reply": "2022-02-24T09:09:18.829900Z",
     "shell.execute_reply.started": "2022-02-23T17:27:18.976397Z"
    },
    "id": "bPZJpzltNtOD",
    "outputId": "70ebb483-edbf-4803-b329-4d8ac84d58e2",
    "papermill": {
     "duration": 0.122096,
     "end_time": "2022-02-24T09:09:18.831296",
     "exception": false,
     "start_time": "2022-02-24T09:09:18.709200",
     "status": "completed"
    },
    "tags": []
   },
   "outputs": [
    {
     "data": {
      "text/html": [
       "<div>\n",
       "<style scoped>\n",
       "    .dataframe tbody tr th:only-of-type {\n",
       "        vertical-align: middle;\n",
       "    }\n",
       "\n",
       "    .dataframe tbody tr th {\n",
       "        vertical-align: top;\n",
       "    }\n",
       "\n",
       "    .dataframe thead th {\n",
       "        text-align: right;\n",
       "    }\n",
       "</style>\n",
       "<table border=\"1\" class=\"dataframe\">\n",
       "  <thead>\n",
       "    <tr style=\"text-align: right;\">\n",
       "      <th></th>\n",
       "      <th>NewUserRating_sqrt</th>\n",
       "      <th>Reviews_sqrt</th>\n",
       "      <th>Price_sqrt</th>\n",
       "    </tr>\n",
       "  </thead>\n",
       "  <tbody>\n",
       "    <tr>\n",
       "      <th>skew</th>\n",
       "      <td>-1.634705</td>\n",
       "      <td>0.884469</td>\n",
       "      <td>1.011734</td>\n",
       "    </tr>\n",
       "    <tr>\n",
       "      <th>kurtosis</th>\n",
       "      <td>4.247479</td>\n",
       "      <td>1.083373</td>\n",
       "      <td>4.449696</td>\n",
       "    </tr>\n",
       "  </tbody>\n",
       "</table>\n",
       "</div>"
      ],
      "text/plain": [
       "          NewUserRating_sqrt  Reviews_sqrt  Price_sqrt\n",
       "skew               -1.634705      0.884469    1.011734\n",
       "kurtosis            4.247479      1.083373    4.449696"
      ]
     },
     "execution_count": 38,
     "metadata": {},
     "output_type": "execute_result"
    }
   ],
   "source": [
    "data[\"NewUserRating_sqrt\"] = np.sqrt(data[\"User Rating\"])\n",
    "data[\"Reviews_sqrt\"] = np.sqrt(data[\"Reviews\"])\n",
    "data[\"Price_sqrt\"] = np.sqrt(data[\"Price\"])\n",
    "\n",
    "data[[\"NewUserRating_sqrt\", \"Reviews_sqrt\", 'Price_sqrt']].agg(['skew', 'kurtosis'])"
   ]
  },
  {
   "cell_type": "markdown",
   "id": "e85b29ff",
   "metadata": {
    "id": "mfL_glMRox2Y",
    "papermill": {
     "duration": 0.099332,
     "end_time": "2022-02-24T09:09:19.030368",
     "exception": false,
     "start_time": "2022-02-24T09:09:18.931036",
     "status": "completed"
    },
    "tags": []
   },
   "source": [
    "# **Hipotez**<a id=\"Hipotez\"></a>\n"
   ]
  },
  {
   "cell_type": "markdown",
   "id": "5a2e59e4",
   "metadata": {
    "id": "1c2WL82t17_k",
    "papermill": {
     "duration": 0.098203,
     "end_time": "2022-02-24T09:09:19.228699",
     "exception": false,
     "start_time": "2022-02-24T09:09:19.130496",
     "status": "completed"
    },
    "tags": []
   },
   "source": [
    "\n",
    "## **Hipotez Nedir?**<a id=\"HipotezNedir\"></a>\n",
    "- Örnekleme ile test edilmeye çalışılan bir popülasyonun ilgili parametresi hakkında ortayasunulan iddiadır. Örneğin, sınıfın matematik ders notları ortalaması 70'in üstündedir.\n",
    "- Hipotezler bir konu hakkında doğruluğu ispatlanmamış fikirlerdir. Çeşitli yöntemlerle hipotezlerin doğruluğu ispatlanmaya çalışır.\n",
    "\n"
   ]
  },
  {
   "cell_type": "markdown",
   "id": "50cb7c6e",
   "metadata": {
    "id": "dOODT1Kn187q",
    "papermill": {
     "duration": 0.099609,
     "end_time": "2022-02-24T09:09:19.427889",
     "exception": false,
     "start_time": "2022-02-24T09:09:19.328280",
     "status": "completed"
    },
    "tags": []
   },
   "source": [
    "## **Hipotez Testi Nedir?**<a id=\"HipotezTestiNedir\"></a>\n",
    "- İstatistiksel testler sonrası hipotezin kabul edilip edilmeyeceğinin belirlenmesi işlemine hipotez testi denir.\n",
    "- Hipotez testlerinde doğru olan hipotez seçilir. Örneğin H0: Sınıf başarılıdır, H1:Sınıf başarısızdır. Bu nedenle hipotez testleri birden fazla hipoteze ihtiyaç duyar. Diğer hipotezlere alternatif hipotez denir.\n"
   ]
  },
  {
   "cell_type": "markdown",
   "id": "559e8c37",
   "metadata": {
    "id": "kh0WEnUc31rG",
    "papermill": {
     "duration": 0.099437,
     "end_time": "2022-02-24T09:09:19.627291",
     "exception": false,
     "start_time": "2022-02-24T09:09:19.527854",
     "status": "completed"
    },
    "tags": []
   },
   "source": [
    "## **Hipotez Testi Aşamaları**:<a id=\"HipotezTestiAşamaları\"></a>\n",
    "\n",
    "1.   Temel ve alternatif hipotezin belirlenmesi,\n",
    "2.   İstatistiksel test için anlamlılık düzeyinin (α) belirlenmesi,\n",
    "\n",
    "<center><img src=\"https://milnepublishing.geneseo.edu/app/uploads/sites/25/2017/02/Image36341_fmt.png\n",
    "\" /></center>\n",
    "\n",
    "3.   Örnekleme dağılımının belirlenmesi,\n",
    "\n",
    "4.   Ret alanının ve kritik değerin belirlenmesi,\n",
    "\n",
    "5.   Karşılaştırmalar, sonuç ve yorum.\n",
    "\n",
    "\n",
    "\n",
    "\n",
    "\n",
    "\n",
    "\n",
    "---\n",
    "\n",
    "\n",
    "https://tr.wikipedia.org/wiki/Hipotez_testi\n"
   ]
  },
  {
   "cell_type": "markdown",
   "id": "34151b9e",
   "metadata": {
    "id": "onETRWNsnZN1",
    "papermill": {
     "duration": 0.098842,
     "end_time": "2022-02-24T09:09:19.824618",
     "exception": false,
     "start_time": "2022-02-24T09:09:19.725776",
     "status": "completed"
    },
    "tags": []
   },
   "source": [
    "## **P değeri (P value)**<a id=\"Pdeğeri\"></a>\n",
    "\n"
   ]
  },
  {
   "cell_type": "markdown",
   "id": "ed3ce3cb",
   "metadata": {
    "id": "pP-rKAYJWJSi",
    "papermill": {
     "duration": 0.09792,
     "end_time": "2022-02-24T09:09:20.022040",
     "exception": false,
     "start_time": "2022-02-24T09:09:19.924120",
     "status": "completed"
    },
    "tags": []
   },
   "source": [
    "- Bir sınıfımız olsun, H0 hipotezimiz bu sınıf başarılı, H1 hipotezimiz ise bu sınıf başarısız olsun. P değeri, çalışma sonucunda elde edilen sonucun şansa bağlı olarak ortaya çıkma olasılığıdır. Daha açık bir ifade ile H0 hipotezimizin doğru olduğu durumda, H0 hipotezimizin reddedilme olasılığıdır.\n",
    "\n",
    "**Bir örnek ile daha da netleştirelim:**\n",
    "Hamile annelerin aldığı alkol miktarı ve yenidoğan bebeklerin doğum ağırlıklarını test edeceğimizi varsayalım. Bütün hamile annelerden bilgi alamayacağımız için bir örneklem oluşturalım. 20 alkol alan, 20 de alkol almayan, yaş, gelir düzeyi, kronik hastalık vb. gibi faktörler bakımından benzer insanlar toplayalım.\n",
    "\n",
    "**H0: Alkol almak ile yeni doğan çocuk kilosu arasında bir ilişki yoktur.**\n",
    "\n",
    "**H1: İlişki vardır.**\n",
    "\n",
    "- Hipotezi kurduk.\n",
    "- Verileri topladık.\n",
    "- Hipotez testimizi yaptık.\n",
    "- Ve test sonucumuzda p değerini bulduk. P değerimiz 0.003 çıksın.\n",
    "- Alfa yanılma düzeyini belirleyelim. (Genelde 0.05 alınır.)\n",
    "- P değerimiz eğer alfa yanılma düzeyinden büyükse H0 hipotezini reddedemeyiz. Yani hamileyken alkol almak ile çocuk kilosu arasında ilişki yoktur deriz. Ancak burada p değerimiz alfadan küçük olduğu için H0 hipotezini reddedebiliriz.\n",
    "---\n",
    "\n"
   ]
  },
  {
   "cell_type": "markdown",
   "id": "49990f40",
   "metadata": {
    "id": "tLSs4LejdqU2",
    "papermill": {
     "duration": 0.097532,
     "end_time": "2022-02-24T09:09:20.217763",
     "exception": false,
     "start_time": "2022-02-24T09:09:20.120231",
     "status": "completed"
    },
    "tags": []
   },
   "source": [
    "**Karışık olmuş olabilir. Bu notebookda burada bırakıyorum. Bundan sonrakinde hipotez kavramına daha detaylı inip, hipotez testleri nasıl yapılır, ne tür hipotez testleri vardır, parametrik-parametrik olmayan analizler nelerdir, nasıl uygularız gibi konuları araştırıp böyle bir notebook hazırlamaya çalışacağım. Ek olarak ben konunun uzmanı olmamakla birlikte, bunları daha yeni öğrenmiş biriyim. Öğrendikçe hem kendime, hem de başkalarına faydası olması adına bu tarz içerikler hazırlamaya çalışıyorum. Her türlü tavsiyeye açığım. Görüşlerinizi iletirseniz sevinirim.**"
   ]
  },
  {
   "cell_type": "code",
   "execution_count": null,
   "id": "4304bb2b",
   "metadata": {
    "papermill": {
     "duration": 0.098586,
     "end_time": "2022-02-24T09:09:20.413710",
     "exception": false,
     "start_time": "2022-02-24T09:09:20.315124",
     "status": "completed"
    },
    "tags": []
   },
   "outputs": [],
   "source": []
  }
 ],
 "metadata": {
  "kernelspec": {
   "display_name": "Python 3",
   "language": "python",
   "name": "python3"
  },
  "language_info": {
   "codemirror_mode": {
    "name": "ipython",
    "version": 3
   },
   "file_extension": ".py",
   "mimetype": "text/x-python",
   "name": "python",
   "nbconvert_exporter": "python",
   "pygments_lexer": "ipython3",
   "version": "3.7.12"
  },
  "papermill": {
   "default_parameters": {},
   "duration": 40.791068,
   "end_time": "2022-02-24T09:09:21.322175",
   "environment_variables": {},
   "exception": null,
   "input_path": "__notebook__.ipynb",
   "output_path": "__notebook__.ipynb",
   "parameters": {},
   "start_time": "2022-02-24T09:08:40.531107",
   "version": "2.3.3"
  }
 },
 "nbformat": 4,
 "nbformat_minor": 5
}
